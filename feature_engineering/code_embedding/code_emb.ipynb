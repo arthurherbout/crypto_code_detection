{
 "cells": [
  {
   "cell_type": "markdown",
   "metadata": {},
   "source": [
    "# Code embedding using Keras"
   ]
  },
  {
   "cell_type": "code",
   "execution_count": 5,
   "metadata": {},
   "outputs": [],
   "source": [
    "#TODO add keras history plot"
   ]
  },
  {
   "cell_type": "code",
   "execution_count": 10,
   "metadata": {},
   "outputs": [],
   "source": [
    "import pandas as pd\n",
    "import numpy as np\n",
    "import matplotlib.pyplot as plt\n",
    "%matplotlib inline"
   ]
  },
  {
   "cell_type": "code",
   "execution_count": 11,
   "metadata": {},
   "outputs": [],
   "source": [
    "font = {'weight': 'bold', 'size': 20}\n",
    "plt.rc('font', **font)"
   ]
  },
  {
   "cell_type": "markdown",
   "metadata": {},
   "source": [
    "## Load data"
   ]
  },
  {
   "cell_type": "code",
   "execution_count": 12,
   "metadata": {},
   "outputs": [],
   "source": [
    "dataframe = pd.read_json('../../data/full_data.json')"
   ]
  },
  {
   "cell_type": "code",
   "execution_count": 13,
   "metadata": {},
   "outputs": [
    {
     "data": {
      "text/html": [
       "<div>\n",
       "<style scoped>\n",
       "    .dataframe tbody tr th:only-of-type {\n",
       "        vertical-align: middle;\n",
       "    }\n",
       "\n",
       "    .dataframe tbody tr th {\n",
       "        vertical-align: top;\n",
       "    }\n",
       "\n",
       "    .dataframe thead th {\n",
       "        text-align: right;\n",
       "    }\n",
       "</style>\n",
       "<table border=\"1\" class=\"dataframe\">\n",
       "  <thead>\n",
       "    <tr style=\"text-align: right;\">\n",
       "      <th></th>\n",
       "      <th>data_source</th>\n",
       "      <th>label</th>\n",
       "      <th>file_name</th>\n",
       "      <th>is_header</th>\n",
       "      <th>content</th>\n",
       "    </tr>\n",
       "  </thead>\n",
       "  <tbody>\n",
       "    <tr>\n",
       "      <td>0</td>\n",
       "      <td>crypto-library</td>\n",
       "      <td>1</td>\n",
       "      <td>nettle/eddsa-hash.c</td>\n",
       "      <td>False</td>\n",
       "      <td>/* eddsa-hash.c\\n\\n   Copyright (C) 2014 Niels...</td>\n",
       "    </tr>\n",
       "    <tr>\n",
       "      <td>1</td>\n",
       "      <td>crypto-library</td>\n",
       "      <td>1</td>\n",
       "      <td>nettle/twofishdata.c</td>\n",
       "      <td>False</td>\n",
       "      <td>/* twofishdata.c\\n\\n   Generates the permutati...</td>\n",
       "    </tr>\n",
       "  </tbody>\n",
       "</table>\n",
       "</div>"
      ],
      "text/plain": [
       "      data_source  label             file_name  is_header  \\\n",
       "0  crypto-library      1   nettle/eddsa-hash.c      False   \n",
       "1  crypto-library      1  nettle/twofishdata.c      False   \n",
       "\n",
       "                                             content  \n",
       "0  /* eddsa-hash.c\\n\\n   Copyright (C) 2014 Niels...  \n",
       "1  /* twofishdata.c\\n\\n   Generates the permutati...  "
      ]
     },
     "execution_count": 13,
     "metadata": {},
     "output_type": "execute_result"
    }
   ],
   "source": [
    "dataframe.head(2)"
   ]
  },
  {
   "cell_type": "code",
   "execution_count": 14,
   "metadata": {},
   "outputs": [
    {
     "data": {
      "text/plain": [
       "'10,749'"
      ]
     },
     "execution_count": 14,
     "metadata": {},
     "output_type": "execute_result"
    }
   ],
   "source": [
    "'{:,}'.format(len(dataframe))"
   ]
  },
  {
   "cell_type": "markdown",
   "metadata": {},
   "source": [
    "Target value:"
   ]
  },
  {
   "cell_type": "code",
   "execution_count": 15,
   "metadata": {},
   "outputs": [
    {
     "data": {
      "text/plain": [
       "0    9465\n",
       "1    1284\n",
       "Name: label, dtype: int64"
      ]
     },
     "execution_count": 15,
     "metadata": {},
     "output_type": "execute_result"
    }
   ],
   "source": [
    "dataframe.label.value_counts()"
   ]
  },
  {
   "cell_type": "markdown",
   "metadata": {},
   "source": [
    "Remove comments:"
   ]
  },
  {
   "cell_type": "markdown",
   "metadata": {},
   "source": [
    "Grab docs (code submissions) and labels (correct or not):"
   ]
  },
  {
   "cell_type": "code",
   "execution_count": 16,
   "metadata": {},
   "outputs": [],
   "source": [
    "import re\n",
    "\n",
    "def remove_comments(string):\n",
    "    # remove all occurrences streamed comments (/*COMMENT */) from string\n",
    "    string = re.sub(re.compile(r\"/\\*.*?\\*/\",re.DOTALL ) , \"\" , string) \n",
    "    # remove all occurrence single-line comments (//COMMENT\\n ) from string\n",
    "    string = re.sub(re.compile(r\"//.*?\\n\" ) , \"\" , string)\n",
    "    return string\n",
    "\n",
    "\n",
    "def get_docs_and_labels(df):\n",
    "    _docs = []\n",
    "    _labels = []\n",
    "    for index in df.index:\n",
    "        # Program\n",
    "        \n",
    "        code = remove_comments(\n",
    "            df.at[index, 'content']\n",
    "        )\n",
    "        _docs.append(code)\n",
    "        # Label\n",
    "        label = int(df.at[index, 'label'])\n",
    "        _labels.append(label)\n",
    "    return _docs, _labels"
   ]
  },
  {
   "cell_type": "code",
   "execution_count": 17,
   "metadata": {},
   "outputs": [],
   "source": [
    "docs, labels = get_docs_and_labels(dataframe)"
   ]
  },
  {
   "cell_type": "code",
   "execution_count": 18,
   "metadata": {},
   "outputs": [
    {
     "data": {
      "text/plain": [
       "'10,749'"
      ]
     },
     "execution_count": 18,
     "metadata": {},
     "output_type": "execute_result"
    }
   ],
   "source": [
    "'{:,}'.format(len(docs))"
   ]
  },
  {
   "cell_type": "code",
   "execution_count": 19,
   "metadata": {},
   "outputs": [
    {
     "name": "stdout",
     "output_type": "stream",
     "text": [
      "(1, '/* twofishdata.c\\n\\n   Generates the permutations q0 and q1 for twofish.\\n\\n   Copyright (C) 1999 Ruud de Rooij <ruud@debian.org>\\n\\n   This program is free software; you can redistribute it and/or modify\\n   it under the terms of the GNU General Public License as published by\\n   the Free Software Foundation; either version 2 of the License, or\\n   (at your option) any later version.\\n\\n   This program is distributed in the hope that it will be useful,\\n   but WITHOUT ANY WARRANTY; without even the implied warranty of\\n   MERCHANTABILITY or FITNESS FOR A PARTICULAR PURPOSE.  See the\\n   GNU General Public License for more details.\\n\\n   You should have received a copy of the GNU General Public License\\n   along with this program; if not, write to the Free Software\\n   Foundation, Inc., 51 Franklin Street, Fifth Floor, Boston, MA\\n   02111-1301  USA.\\n */\\n\\n#include <stdio.h>\\n\\n#define ror4(x) (((x) >> 1) | (((x) & 1) << 3))\\n\\nstatic unsigned char q0(unsigned char x)\\n{\\n    static const unsigned char t0[16] = {\\n      0x8, 0x1, 0x7, 0xD, 0x6, 0xF, 0x3, 0x2,\\n      0x0, 0xB, 0x5, 0x9, 0xE, 0xC, 0xA, 0x4\\n    };\\n    static const unsigned char t1[16] = {\\n      0xE, 0xC, 0xB, 0x8, 0x1, 0x2, 0x3, 0x5,\\n      0xF, 0x4, 0xA, 0x6, 0x7, 0x0, 0x9, 0xD\\n    };\\n    static const unsigned char t2[16] = {\\n      0xB, 0xA, 0x5, 0xE, 0x6, 0xD, 0x9, 0x0,\\n      0xC, 0x8, 0xF, 0x3, 0x2, 0x4, 0x7, 0x1\\n    };\\n    static const unsigned char t3[16] = {\\n      0xD, 0x7, 0xF, 0x4, 0x1, 0x2, 0x6, 0xE,\\n      0x9, 0xB, 0x3, 0x0, 0x8, 0x5, 0xC, 0xA\\n    };\\n\\n    unsigned char a0 = x / 16;\\n    unsigned char b0 = x % 16;\\n\\n    unsigned char a1 = a0 ^ b0;\\n    unsigned char b1 = a0 ^ ror4(b0) ^ ((8*a0) % 16);\\n\\n    unsigned char a2 = t0[a1];\\n    unsigned char b2 = t1[b1];\\n\\n    unsigned char a3 = a2 ^ b2;\\n    unsigned char b3 = a2 ^ ror4(b2) ^ ((8*a2) % 16);\\n\\n    unsigned char a4 = t2[a3];\\n    unsigned char b4 = t3[b3];\\n\\n    unsigned char y = 16*b4 + a4;\\n\\n    return y;\\n}\\n\\nstatic unsigned char q1(unsigned char x)\\n{\\n  static const unsigned char t0[16] = {\\n    0x2, 0x8, 0xB, 0xD, 0xF, 0x7, 0x6, 0xE,\\n    0x3, 0x1, 0x9, 0x4, 0x0, 0xA, 0xC, 0x5\\n  };\\n  static const unsigned char t1[16] = {\\n    0x1, 0xE, 0x2, 0xB, 0x4, 0xC, 0x3, 0x7,\\n    0x6, 0xD, 0xA, 0x5, 0xF, 0x9, 0x0, 0x8\\n  };\\n  static const unsigned char t2[16] = {\\n    0x4, 0xC, 0x7, 0x5, 0x1, 0x6, 0x9, 0xA,\\n    0x0, 0xE, 0xD, 0x8, 0x2, 0xB, 0x3, 0xF\\n  };\\n  static const unsigned char t3[16] = {\\n    0xB, 0x9, 0x5, 0x1, 0xC, 0x3, 0xD, 0xE,\\n    0x6, 0x4, 0x7, 0xF, 0x2, 0x0, 0x8, 0xA\\n  };\\n\\n  unsigned char a0 = x / 16;\\n  unsigned char b0 = x % 16;\\n\\n  unsigned char a1 = a0 ^ b0;\\n  unsigned char b1 = a0 ^ ror4(b0) ^ ((8*a0) % 16);\\n\\n  unsigned char a2 = t0[a1];\\n  unsigned char b2 = t1[b1];\\n\\n  unsigned char a3 = a2 ^ b2;\\n  unsigned char b3 = a2 ^ ror4(b2) ^ ((8*a2) % 16);\\n\\n  unsigned char a4 = t2[a3];\\n  unsigned char b4 = t3[b3];\\n\\n  unsigned char y = 16*b4 + a4;\\n\\n  return y;\\n}\\n\\nint\\nmain(void)\\n{\\n  unsigned i;\\n\\n  printf(\"static const uint8_t q0[256] = {\");\\n  for (i = 0; i < 256; i++) {\\n    if ( (i % 8) == 0)\\n      printf(\"\\\\n  \");\\n    printf(\"0x%02X,\", q0(i));\\n  }\\n  printf(\"\\\\n};\\\\n\\\\n\");\\n\\n  printf(\"static const uint8_t q1[256] = {\");\\n  for (i = 0; i < 256; i++) {\\n    if ( (i % 8) == 0)\\n      printf(\"\\\\n  \");\\n    printf(\"0x%02X,\", q1(i));\\n  }\\n  printf(\"\\\\n};\\\\n\");\\n\\n  return 0;\\n}\\n')\n"
     ]
    }
   ],
   "source": [
    "for item in dataframe.loc[1:1,'content'].iteritems():\n",
    "    print(item)"
   ]
  },
  {
   "cell_type": "markdown",
   "metadata": {},
   "source": [
    "## Tokenize code and generate sequences"
   ]
  },
  {
   "cell_type": "code",
   "execution_count": 20,
   "metadata": {
    "scrolled": true
   },
   "outputs": [
    {
     "name": "stderr",
     "output_type": "stream",
     "text": [
      "Using TensorFlow backend.\n",
      "/Users/arnaudstiegler/miniconda3/envs/emotion_detection/lib/python3.6/site-packages/tensorflow/python/framework/dtypes.py:523: FutureWarning: Passing (type, 1) or '1type' as a synonym of type is deprecated; in a future version of numpy, it will be understood as (type, (1,)) / '(1,)type'.\n",
      "  _np_qint8 = np.dtype([(\"qint8\", np.int8, 1)])\n",
      "/Users/arnaudstiegler/miniconda3/envs/emotion_detection/lib/python3.6/site-packages/tensorflow/python/framework/dtypes.py:524: FutureWarning: Passing (type, 1) or '1type' as a synonym of type is deprecated; in a future version of numpy, it will be understood as (type, (1,)) / '(1,)type'.\n",
      "  _np_quint8 = np.dtype([(\"quint8\", np.uint8, 1)])\n",
      "/Users/arnaudstiegler/miniconda3/envs/emotion_detection/lib/python3.6/site-packages/tensorflow/python/framework/dtypes.py:525: FutureWarning: Passing (type, 1) or '1type' as a synonym of type is deprecated; in a future version of numpy, it will be understood as (type, (1,)) / '(1,)type'.\n",
      "  _np_qint16 = np.dtype([(\"qint16\", np.int16, 1)])\n",
      "/Users/arnaudstiegler/miniconda3/envs/emotion_detection/lib/python3.6/site-packages/tensorflow/python/framework/dtypes.py:526: FutureWarning: Passing (type, 1) or '1type' as a synonym of type is deprecated; in a future version of numpy, it will be understood as (type, (1,)) / '(1,)type'.\n",
      "  _np_quint16 = np.dtype([(\"quint16\", np.uint16, 1)])\n",
      "/Users/arnaudstiegler/miniconda3/envs/emotion_detection/lib/python3.6/site-packages/tensorflow/python/framework/dtypes.py:527: FutureWarning: Passing (type, 1) or '1type' as a synonym of type is deprecated; in a future version of numpy, it will be understood as (type, (1,)) / '(1,)type'.\n",
      "  _np_qint32 = np.dtype([(\"qint32\", np.int32, 1)])\n",
      "/Users/arnaudstiegler/miniconda3/envs/emotion_detection/lib/python3.6/site-packages/tensorflow/python/framework/dtypes.py:532: FutureWarning: Passing (type, 1) or '1type' as a synonym of type is deprecated; in a future version of numpy, it will be understood as (type, (1,)) / '(1,)type'.\n",
      "  np_resource = np.dtype([(\"resource\", np.ubyte, 1)])\n",
      "/Users/arnaudstiegler/miniconda3/envs/emotion_detection/lib/python3.6/site-packages/tensorboard/compat/tensorflow_stub/dtypes.py:541: FutureWarning: Passing (type, 1) or '1type' as a synonym of type is deprecated; in a future version of numpy, it will be understood as (type, (1,)) / '(1,)type'.\n",
      "  _np_qint8 = np.dtype([(\"qint8\", np.int8, 1)])\n",
      "/Users/arnaudstiegler/miniconda3/envs/emotion_detection/lib/python3.6/site-packages/tensorboard/compat/tensorflow_stub/dtypes.py:542: FutureWarning: Passing (type, 1) or '1type' as a synonym of type is deprecated; in a future version of numpy, it will be understood as (type, (1,)) / '(1,)type'.\n",
      "  _np_quint8 = np.dtype([(\"quint8\", np.uint8, 1)])\n",
      "/Users/arnaudstiegler/miniconda3/envs/emotion_detection/lib/python3.6/site-packages/tensorboard/compat/tensorflow_stub/dtypes.py:543: FutureWarning: Passing (type, 1) or '1type' as a synonym of type is deprecated; in a future version of numpy, it will be understood as (type, (1,)) / '(1,)type'.\n",
      "  _np_qint16 = np.dtype([(\"qint16\", np.int16, 1)])\n",
      "/Users/arnaudstiegler/miniconda3/envs/emotion_detection/lib/python3.6/site-packages/tensorboard/compat/tensorflow_stub/dtypes.py:544: FutureWarning: Passing (type, 1) or '1type' as a synonym of type is deprecated; in a future version of numpy, it will be understood as (type, (1,)) / '(1,)type'.\n",
      "  _np_quint16 = np.dtype([(\"quint16\", np.uint16, 1)])\n",
      "/Users/arnaudstiegler/miniconda3/envs/emotion_detection/lib/python3.6/site-packages/tensorboard/compat/tensorflow_stub/dtypes.py:545: FutureWarning: Passing (type, 1) or '1type' as a synonym of type is deprecated; in a future version of numpy, it will be understood as (type, (1,)) / '(1,)type'.\n",
      "  _np_qint32 = np.dtype([(\"qint32\", np.int32, 1)])\n",
      "/Users/arnaudstiegler/miniconda3/envs/emotion_detection/lib/python3.6/site-packages/tensorboard/compat/tensorflow_stub/dtypes.py:550: FutureWarning: Passing (type, 1) or '1type' as a synonym of type is deprecated; in a future version of numpy, it will be understood as (type, (1,)) / '(1,)type'.\n",
      "  np_resource = np.dtype([(\"resource\", np.ubyte, 1)])\n"
     ]
    }
   ],
   "source": [
    "import os\n",
    "#To ignore the warnings\n",
    "os.environ['TF_CPP_MIN_LOG_LEVEL'] = '3'\n",
    "\n",
    "from keras.preprocessing.text import Tokenizer"
   ]
  },
  {
   "cell_type": "code",
   "execution_count": 21,
   "metadata": {},
   "outputs": [],
   "source": [
    "#We set the size of the vocabulary\n",
    "NUM_WORDS = 10000"
   ]
  },
  {
   "cell_type": "code",
   "execution_count": 22,
   "metadata": {},
   "outputs": [],
   "source": [
    "tokenizer = Tokenizer(num_words=NUM_WORDS, \n",
    "                     filters='\\t\\n,', \n",
    "                     lower=True, \n",
    "                     split=' ', \n",
    "                     char_level=False)"
   ]
  },
  {
   "cell_type": "code",
   "execution_count": 23,
   "metadata": {},
   "outputs": [],
   "source": [
    "tokenizer.fit_on_texts(docs)"
   ]
  },
  {
   "cell_type": "code",
   "execution_count": 24,
   "metadata": {},
   "outputs": [
    {
     "data": {
      "text/plain": [
       "1104144"
      ]
     },
     "execution_count": 24,
     "metadata": {},
     "output_type": "execute_result"
    }
   ],
   "source": [
    "# Size of the vocabulary\n",
    "len(tokenizer.word_index) "
   ]
  },
  {
   "cell_type": "code",
   "execution_count": 25,
   "metadata": {},
   "outputs": [
    {
     "data": {
      "text/plain": [
       "'Number docs: 10,749'"
      ]
     },
     "execution_count": 25,
     "metadata": {},
     "output_type": "execute_result"
    }
   ],
   "source": [
    "# document_count: an integer count of the total number of documents that were used to fit the Tokenizer.\n",
    "'Number docs: {:,}'.format(tokenizer.document_count)"
   ]
  },
  {
   "cell_type": "code",
   "execution_count": 26,
   "metadata": {},
   "outputs": [
    {
     "data": {
      "text/plain": [
       "122415"
      ]
     },
     "execution_count": 26,
     "metadata": {},
     "output_type": "execute_result"
    }
   ],
   "source": [
    "# Number of occurences of if in the dataset\n",
    "tokenizer.word_counts['if'] # index"
   ]
  },
  {
   "cell_type": "code",
   "execution_count": 27,
   "metadata": {},
   "outputs": [
    {
     "data": {
      "text/plain": [
       "5697"
      ]
     },
     "execution_count": 27,
     "metadata": {},
     "output_type": "execute_result"
    }
   ],
   "source": [
    "# word_docs: a dictionary of words and how many documents each appeared in.\n",
    "tokenizer.word_docs['if']"
   ]
  },
  {
   "cell_type": "code",
   "execution_count": 28,
   "metadata": {},
   "outputs": [],
   "source": [
    "sequences = tokenizer.texts_to_sequences(docs)"
   ]
  },
  {
   "cell_type": "markdown",
   "metadata": {},
   "source": [
    "Let's look at the length distribution of the sequences to know what max size to choose"
   ]
  },
  {
   "cell_type": "code",
   "execution_count": 29,
   "metadata": {},
   "outputs": [
    {
     "data": {
      "text/plain": [
       "(522.2855149316215, 3081.647440494642, 152085)"
      ]
     },
     "execution_count": 29,
     "metadata": {},
     "output_type": "execute_result"
    }
   ],
   "source": [
    "len_seqs = [len(s) for s in sequences]\n",
    "np.mean(len_seqs), np.std(len_seqs), np.max(len_seqs)"
   ]
  },
  {
   "cell_type": "markdown",
   "metadata": {},
   "source": [
    "The mean is at 600 but the standard deviation is much bigger"
   ]
  },
  {
   "cell_type": "code",
   "execution_count": 30,
   "metadata": {},
   "outputs": [],
   "source": [
    "MAX_LENGTH = 1000"
   ]
  },
  {
   "cell_type": "markdown",
   "metadata": {},
   "source": [
    "Dictionary to transform a vector back to the program:"
   ]
  },
  {
   "cell_type": "code",
   "execution_count": 31,
   "metadata": {},
   "outputs": [],
   "source": [
    "id_to_word = { v: k for k, v in tokenizer.word_index.items() }"
   ]
  },
  {
   "cell_type": "code",
   "execution_count": 32,
   "metadata": {},
   "outputs": [
    {
     "data": {
      "text/plain": [
       "'='"
      ]
     },
     "execution_count": 32,
     "metadata": {},
     "output_type": "execute_result"
    }
   ],
   "source": [
    "id_to_word[1]"
   ]
  },
  {
   "cell_type": "code",
   "execution_count": 33,
   "metadata": {},
   "outputs": [
    {
     "data": {
      "text/plain": [
       "['#if',\n",
       " 'have_config_h',\n",
       " '#',\n",
       " 'include',\n",
       " '\"config.h\"',\n",
       " '#endif',\n",
       " '#include',\n",
       " '<assert.h>',\n",
       " '#include',\n",
       " '#include']"
      ]
     },
     "execution_count": 33,
     "metadata": {},
     "output_type": "execute_result"
    }
   ],
   "source": [
    "[id_to_word[index] for index in sequences[0]][0:10]"
   ]
  },
  {
   "cell_type": "markdown",
   "metadata": {
    "collapsed": true
   },
   "source": [
    "Pad documents:"
   ]
  },
  {
   "cell_type": "code",
   "execution_count": 34,
   "metadata": {},
   "outputs": [],
   "source": [
    "from keras.preprocessing.sequence import pad_sequences\n",
    "# pad documents\n",
    "padded_docs = pad_sequences(sequences, maxlen=MAX_LENGTH, padding='post')"
   ]
  },
  {
   "cell_type": "code",
   "execution_count": 35,
   "metadata": {},
   "outputs": [
    {
     "data": {
      "text/plain": [
       "array([  52, 1514,   85,  574, 1573,   23,   12, 1279,   12,   12],\n",
       "      dtype=int32)"
      ]
     },
     "execution_count": 35,
     "metadata": {},
     "output_type": "execute_result"
    }
   ],
   "source": [
    "padded_docs[0][0:10]"
   ]
  },
  {
   "cell_type": "markdown",
   "metadata": {},
   "source": [
    "## Defining the model"
   ]
  },
  {
   "cell_type": "code",
   "execution_count": 39,
   "metadata": {},
   "outputs": [],
   "source": [
    "from tensorflow.keras import backend as K\n",
    "from tensorflow.keras.models import Sequential\n",
    "from tensorflow.keras.layers import Flatten, Dense, Dropout\n",
    "from tensorflow.keras.layers import Embedding\n",
    "\n",
    "#We add the epsilon to avoid any error in the function\n",
    "\n",
    "def precision_(y_true, y_pred):\n",
    "    true_positives = K.sum(K.round(K.clip(y_true * y_pred, 0, 1)))\n",
    "    predicted_positives = K.sum(K.round(K.clip(y_pred, 0, 1)))\n",
    "    precision = true_positives / (predicted_positives + K.epsilon())\n",
    "    return precision\n",
    "    \n",
    "def recall_(y_true, y_pred):\n",
    "    true_positives = K.sum(K.round(K.clip(y_true * y_pred, 0, 1)))\n",
    "    possible_positives = K.sum(K.round(K.clip(y_true, 0, 1)))\n",
    "    recall = true_positives / (possible_positives + K.epsilon())\n",
    "    return recall\n",
    "\n",
    "def f1(y_true, y_pred):\n",
    "    \n",
    "    precision = precision_(y_true, y_pred)\n",
    "    recall = recall_(y_true, y_pred)\n",
    "    return 2*((precision*recall)/(precision+recall+K.epsilon()))\n",
    "\n",
    "def f2(y_true, y_pred):\n",
    "    \n",
    "    precision = precision_(y_true, y_pred)\n",
    "    recall = recall_(y_true, y_pred)\n",
    "    return 5*((precision*recall)/(4*precision+recall+K.epsilon()))"
   ]
  },
  {
   "cell_type": "code",
   "execution_count": 40,
   "metadata": {},
   "outputs": [
    {
     "name": "stdout",
     "output_type": "stream",
     "text": [
      "Model: \"sequential\"\n",
      "_________________________________________________________________\n",
      "Layer (type)                 Output Shape              Param #   \n",
      "=================================================================\n",
      "embedding (Embedding)        (None, 1000, 50)          500000    \n",
      "_________________________________________________________________\n",
      "flatten (Flatten)            (None, 50000)             0         \n",
      "_________________________________________________________________\n",
      "dropout (Dropout)            (None, 50000)             0         \n",
      "_________________________________________________________________\n",
      "dense (Dense)                (None, 1)                 50001     \n",
      "=================================================================\n",
      "Total params: 550,001\n",
      "Trainable params: 550,001\n",
      "Non-trainable params: 0\n",
      "_________________________________________________________________\n",
      "None\n"
     ]
    }
   ],
   "source": [
    "# define the model\n",
    "model = Sequential()\n",
    "model.add(Embedding(NUM_WORDS, 50, input_length=MAX_LENGTH))\n",
    "model.add(Flatten())\n",
    "model.add(Dropout(rate=0.3))\n",
    "model.add(Dense(1, activation='sigmoid'))\n",
    "    \n",
    "model.compile(optimizer='adam', \n",
    "                  loss='binary_crossentropy', \n",
    "                  metrics=['acc', f1,f2,precision_,recall_])\n",
    "\n",
    "print(model.summary())"
   ]
  },
  {
   "cell_type": "code",
   "execution_count": 41,
   "metadata": {},
   "outputs": [],
   "source": [
    "def plot(history):\n",
    "  \n",
    "  # The history object contains results on the training and test\n",
    "  # sets for each epoch\n",
    "    acc = history.history['recall_']\n",
    "    val_acc = history.history['val_recall_']\n",
    "    loss = history.history['loss']\n",
    "    val_loss = history.history['val_loss']\n",
    "\n",
    "    # Get the number of epochs\n",
    "    epochs = range(len(acc))\n",
    "\n",
    "    plt.title('Training and validation recall')\n",
    "    plt.plot(epochs, acc, color='blue', label='Train')\n",
    "    plt.plot(epochs, val_acc, color='orange', label='Val')\n",
    "    plt.xlabel('Epoch')\n",
    "    plt.ylabel('Recall')\n",
    "    plt.legend()\n",
    "    plt.savefig('../code_embedding/plots/training_recall.png')\n",
    "\n",
    "    _ = plt.figure()\n",
    "    plt.title('Training and validation loss')\n",
    "    plt.plot(epochs, loss, color='blue', label='Train')\n",
    "    plt.plot(epochs, val_loss, color='orange', label='Val')\n",
    "    plt.xlabel('Epoch')\n",
    "    plt.ylabel('Loss')\n",
    "    plt.legend()\n",
    "    plt.savefig('../code_embedding/plots/training_loss.png')"
   ]
  },
  {
   "cell_type": "code",
   "execution_count": 42,
   "metadata": {},
   "outputs": [],
   "source": [
    "from sklearn.model_selection import train_test_split\n",
    "\n",
    "indices = np.arange(padded_docs.shape[0])\n",
    "\n",
    "X_train, X_test, y_train, y_test,train_idx, test_idx = train_test_split(padded_docs, labels,indices, \n",
    "                                                    test_size=0.2, random_state=0,\n",
    "                                                    stratify=labels)"
   ]
  },
  {
   "cell_type": "code",
   "execution_count": 43,
   "metadata": {},
   "outputs": [
    {
     "data": {
      "text/plain": [
       "True"
      ]
     },
     "execution_count": 43,
     "metadata": {},
     "output_type": "execute_result"
    }
   ],
   "source": [
    "#Checking the indexing\n",
    "(X_test[0] == padded_docs[test_idx[0]]).all()"
   ]
  },
  {
   "cell_type": "code",
   "execution_count": 44,
   "metadata": {
    "scrolled": false
   },
   "outputs": [
    {
     "name": "stdout",
     "output_type": "stream",
     "text": [
      "Train on 8599 samples, validate on 2150 samples\n",
      "Epoch 1/5\n",
      "8599/8599 [==============================] - 7s 843us/sample - loss: 0.1854 - acc: 0.9306 - f1: 0.5298 - f2: 0.4985 - precision_: 0.6510 - recall_: 0.4848 - val_loss: 0.0907 - val_acc: 0.9712 - val_f1: 0.8620 - val_f2: 0.8565 - val_precision_: 0.8923 - val_recall_: 0.8571\n",
      "Epoch 2/5\n",
      "8599/8599 [==============================] - 6s 746us/sample - loss: 0.0620 - acc: 0.9800 - f1: 0.8847 - f2: 0.8672 - precision_: 0.9380 - recall_: 0.8601 - val_loss: 0.0768 - val_acc: 0.9753 - val_f1: 0.8928 - val_f2: 0.8931 - val_precision_: 0.9111 - val_recall_: 0.8980\n",
      "Epoch 3/5\n",
      "8599/8599 [==============================] - 7s 789us/sample - loss: 0.0356 - acc: 0.9881 - f1: 0.8995 - f2: 0.8861 - precision_: 0.9368 - recall_: 0.8798 - val_loss: 0.0692 - val_acc: 0.9721 - val_f1: 0.8040 - val_f2: 0.7817 - val_precision_: 0.8643 - val_recall_: 0.7706\n",
      "Epoch 4/5\n",
      "8599/8599 [==============================] - 7s 845us/sample - loss: 0.0238 - acc: 0.9927 - f1: 0.9486 - f2: 0.9399 - precision_: 0.9733 - recall_: 0.9356 - val_loss: 0.0671 - val_acc: 0.9767 - val_f1: 0.8326 - val_f2: 0.8182 - val_precision_: 0.8828 - val_recall_: 0.8129\n",
      "Epoch 5/5\n",
      "8599/8599 [==============================] - 7s 786us/sample - loss: 0.0179 - acc: 0.9950 - f1: 0.9529 - f2: 0.9475 - precision_: 0.9694 - recall_: 0.9453 - val_loss: 0.0678 - val_acc: 0.9749 - val_f1: 0.8497 - val_f2: 0.8380 - val_precision_: 0.8948 - val_recall_: 0.8359\n"
     ]
    }
   ],
   "source": [
    "# fit the model\n",
    "\n",
    "history = model.fit(X_train, \n",
    "          y_train,\n",
    "          epochs=5,\n",
    "          validation_data=(X_test,y_test))"
   ]
  },
  {
   "cell_type": "code",
   "execution_count": 45,
   "metadata": {},
   "outputs": [
    {
     "data": {
      "image/png": "[encoded data removed]",
      "text/plain": [
       "<Figure size 432x288 with 1 Axes>"
      ]
     },
     "metadata": {
      "needs_background": "light"
     },
     "output_type": "display_data"
    },
    {
     "data": {
      "image/png": "[encoded data removed]",
      "text/plain": [
       "<Figure size 432x288 with 1 Axes>"
      ]
     },
     "metadata": {
      "needs_background": "light"
     },
     "output_type": "display_data"
    }
   ],
   "source": [
    "plot(history)"
   ]
  },
  {
   "cell_type": "code",
   "execution_count": 104,
   "metadata": {},
   "outputs": [
    {
     "name": "stdout",
     "output_type": "stream",
     "text": [
      "1828/1828 [==============================] - 0s 98us/step\n",
      "Accuracy: 97.374179, F1: 87.721708, F2: 86.993035, precision: 91.863428, recall: 87.100135\n"
     ]
    }
   ],
   "source": [
    "# evaluate the model\n",
    "word_loss, word_accuracy, word_f1,word_f2, word_precision, word_recall = model.evaluate(X_test, y_test, verbose=1)\n",
    "print('Accuracy: %f, F1: %f, F2: %f, precision: %f, recall: %f' % (word_accuracy * 100, word_f1 * 100, word_f2 * 100, word_precision*100, word_recall*100))"
   ]
  },
  {
   "cell_type": "code",
   "execution_count": null,
   "metadata": {},
   "outputs": [],
   "source": [
    "word_score = {\n",
    "    'accuracy': word_accuracy,\n",
    "    'F1': word_f1,\n",
    "}\n",
    "embeddings_scores = { 'Word': word_score }"
   ]
  },
  {
   "cell_type": "code",
   "execution_count": null,
   "metadata": {},
   "outputs": [],
   "source": [
    "# Embedding Layer\n",
    "embedding_layer = model.layers[0]\n",
    "embeddings = embedding_layer.get_weights()[0]\n",
    "print('Embedding Layer shape:', embeddings.shape)"
   ]
  },
  {
   "cell_type": "code",
   "execution_count": null,
   "metadata": {},
   "outputs": [],
   "source": [
    "embeddings[0]"
   ]
  },
  {
   "cell_type": "code",
   "execution_count": null,
   "metadata": {},
   "outputs": [],
   "source": [
    "np.save('../code_embedding/embedding/word_embeddings', embeddings)"
   ]
  },
  {
   "cell_type": "code",
   "execution_count": null,
   "metadata": {},
   "outputs": [],
   "source": [
    "from sklearn.decomposition import PCA\n",
    "\n",
    "pca = PCA(n_components=2)\n",
    "principal_components = pca.fit_transform(embeddings)\n",
    "print('PCA explained variance ratio:', pca.explained_variance_ratio_, 'Total:', sum(pca.explained_variance_ratio_))"
   ]
  },
  {
   "cell_type": "code",
   "execution_count": null,
   "metadata": {},
   "outputs": [],
   "source": [
    "def get_top_words(tokenizer, N=50):\n",
    "    \n",
    "    return [word for word, occurrences in sorted(tokenizer.word_counts.items(), key=lambda t: t[1], reverse=True)[:N]]"
   ]
  },
  {
   "cell_type": "code",
   "execution_count": null,
   "metadata": {},
   "outputs": [],
   "source": [
    "top_words = get_top_words(tokenizer)"
   ]
  },
  {
   "cell_type": "code",
   "execution_count": null,
   "metadata": {},
   "outputs": [],
   "source": [
    "def plot_embeddings(low_dim_embs, id_to_word, top_words,id_plot, figsize=(8, 8)):\n",
    "\n",
    "    plt.figure(figsize=figsize, dpi=100)\n",
    "    #ax = plt.axes()\n",
    "    #ax.yaxis.set_major_locator(plt.NullLocator())\n",
    "    #ax.xaxis.set_major_locator(plt.NullLocator())\n",
    "    i = 0\n",
    "    while i < len(low_dim_embs):\n",
    "\n",
    "        if i in id_to_word:\n",
    "            \n",
    "            x, y = low_dim_embs[i, :]\n",
    "            word = id_to_word[i]\n",
    "\n",
    "            if word in top_words:\n",
    "                plt.scatter(x, y, color='b')\n",
    "                plt.annotate(word,\n",
    "                            xy=(x, y),\n",
    "                            xytext=(5, 2),\n",
    "                            textcoords='offset points',\n",
    "                            ha='right',\n",
    "                            va='bottom',\n",
    "                            fontsize=14)\n",
    "                plt.title(\"Embedding projected on PCA space\")\n",
    "        \n",
    "        i += 1\n",
    "    plt.savefig('../code_embedding/plots/pca_{}.png'.format(id_plot))"
   ]
  },
  {
   "cell_type": "code",
   "execution_count": null,
   "metadata": {
    "scrolled": false
   },
   "outputs": [],
   "source": [
    "plot_embeddings(principal_components, id_to_word, top_words,id_plot=0, figsize=(18, 18))"
   ]
  },
  {
   "cell_type": "code",
   "execution_count": null,
   "metadata": {},
   "outputs": [],
   "source": [
    "plot_embeddings(principal_components, id_to_word, get_top_words(tokenizer, 20), id_plot=1)"
   ]
  },
  {
   "cell_type": "markdown",
   "metadata": {},
   "source": [
    "Measure the distance between vectors:"
   ]
  },
  {
   "cell_type": "code",
   "execution_count": null,
   "metadata": {},
   "outputs": [],
   "source": [
    "from scipy.spatial.distance import euclidean, cosine\n",
    "\n",
    "def get_vector_distance(embeddings, tok, word1, word2):\n",
    "    \n",
    "    return euclidean(embeddings[tok.word_index[word1]], \n",
    "                     embeddings[tok.word_index[word2]])\n",
    "    \n",
    "def get_vector_cosine_distance(embeddings, tok, word1, word2):\n",
    "    \n",
    "    return cosine(embeddings[tok.word_index[word1]], \n",
    "                  embeddings[tok.word_index[word2]])"
   ]
  },
  {
   "cell_type": "markdown",
   "metadata": {},
   "source": [
    "Cosine similarity:"
   ]
  },
  {
   "cell_type": "code",
   "execution_count": null,
   "metadata": {},
   "outputs": [],
   "source": [
    "get_vector_cosine_distance(embeddings, tokenizer, 'x', 'y')"
   ]
  },
  {
   "cell_type": "code",
   "execution_count": null,
   "metadata": {},
   "outputs": [],
   "source": [
    "get_vector_cosine_distance(embeddings, tokenizer, '<<', '=')"
   ]
  },
  {
   "cell_type": "code",
   "execution_count": null,
   "metadata": {},
   "outputs": [],
   "source": [
    "get_vector_cosine_distance(embeddings, tokenizer, '+', '-')"
   ]
  },
  {
   "cell_type": "code",
   "execution_count": null,
   "metadata": {},
   "outputs": [],
   "source": [
    "get_vector_cosine_distance(embeddings, tokenizer, '(', ')')"
   ]
  },
  {
   "cell_type": "code",
   "execution_count": null,
   "metadata": {},
   "outputs": [],
   "source": [
    "get_vector_cosine_distance(embeddings, tokenizer, '{', '}')"
   ]
  },
  {
   "cell_type": "markdown",
   "metadata": {},
   "source": [
    "Euclidean distance:"
   ]
  },
  {
   "cell_type": "code",
   "execution_count": null,
   "metadata": {
    "scrolled": false
   },
   "outputs": [],
   "source": [
    "get_vector_distance(embeddings, tokenizer, '<<', '>>')"
   ]
  },
  {
   "cell_type": "code",
   "execution_count": null,
   "metadata": {},
   "outputs": [],
   "source": [
    "get_vector_distance(embeddings, tokenizer, 'x', 'y')"
   ]
  },
  {
   "cell_type": "code",
   "execution_count": null,
   "metadata": {},
   "outputs": [],
   "source": [
    "get_vector_distance(embeddings,tokenizer, 'if', 'elif')"
   ]
  },
  {
   "cell_type": "code",
   "execution_count": null,
   "metadata": {},
   "outputs": [],
   "source": [
    "get_vector_distance(embeddings, tokenizer, 'elif', 'else:')"
   ]
  },
  {
   "cell_type": "code",
   "execution_count": null,
   "metadata": {},
   "outputs": [],
   "source": [
    "get_vector_distance(embeddings, tokenizer, '+', '-')"
   ]
  },
  {
   "cell_type": "code",
   "execution_count": null,
   "metadata": {
    "scrolled": true
   },
   "outputs": [],
   "source": [
    "get_vector_distance(embeddings, tokenizer, 'for', 'while')"
   ]
  },
  {
   "cell_type": "markdown",
   "metadata": {},
   "source": [
    "## More complex architecture"
   ]
  },
  {
   "cell_type": "code",
   "execution_count": null,
   "metadata": {},
   "outputs": [],
   "source": [
    "from keras.layers import Conv1D, BatchNormalization, Dropout, MaxPooling1D\n",
    "from sklearn.metrics import f1_score\n",
    "\n",
    "model = Sequential()\n",
    "model.add(Embedding(NUM_WORDS, 50, input_length=MAX_LENGTH))\n",
    "model.add(Conv1D(32, 15, strides=1, activation='relu'))\n",
    "model.add(BatchNormalization())\n",
    "model.add(MaxPooling1D())\n",
    "model.add(Conv1D(32,15, strides=1, activation='relu'))\n",
    "model.add(BatchNormalization())\n",
    "model.add(MaxPooling1D())\n",
    "model.add(Conv1D(32,10, strides=1, activation='relu'))\n",
    "model.add(BatchNormalization())\n",
    "model.add(MaxPooling1D())\n",
    "model.add(Conv1D(32,10, strides=1, activation='relu'))\n",
    "model.add(BatchNormalization())\n",
    "model.add(MaxPooling1D())\n",
    "model.add(Flatten())\n",
    "model.add(Dropout(rate=0.5))\n",
    "model.add(Dense(1, activation='sigmoid'))\n",
    "\n",
    "model.compile(optimizer='adam', \n",
    "                  loss='binary_crossentropy', \n",
    "                  metrics=['acc', f1,f2,precision_,recall_])\n",
    "\n",
    "print(model.summary())\n",
    "                    "
   ]
  }
 ],
 "metadata": {
  "kernelspec": {
   "display_name": "Python [conda env:emotion_detection]",
   "language": "python",
   "name": "conda-env-emotion_detection-py"
  },
  "language_info": {
   "codemirror_mode": {
    "name": "ipython",
    "version": 3
   },
   "file_extension": ".py",
   "mimetype": "text/x-python",
   "name": "python",
   "nbconvert_exporter": "python",
   "pygments_lexer": "ipython3",
   "version": "3.6.7"
  }
 },
 "nbformat": 4,
 "nbformat_minor": 1
}
