{
 "cells": [
  {
   "cell_type": "markdown",
   "metadata": {},
   "source": [
    "# Code embedding using Keras"
   ]
  },
  {
   "cell_type": "code",
   "execution_count": null,
   "metadata": {},
   "outputs": [],
   "source": [
    "#TODO add keras history plot"
   ]
  },
  {
   "cell_type": "code",
   "execution_count": 68,
   "metadata": {},
   "outputs": [],
   "source": [
    "import pandas as pd\n",
    "import numpy as np\n",
    "import matplotlib.pyplot as plt\n",
    "%matplotlib inline"
   ]
  },
  {
   "cell_type": "code",
   "execution_count": 69,
   "metadata": {},
   "outputs": [],
   "source": [
    "font = {'weight': 'bold', 'size': 20}\n",
    "plt.rc('font', **font)"
   ]
  },
  {
   "cell_type": "markdown",
   "metadata": {},
   "source": [
    "## Load data"
   ]
  },
  {
   "cell_type": "code",
   "execution_count": 73,
   "metadata": {},
   "outputs": [],
   "source": [
    "dataframe = pd.read_json('../../data/train.json')"
   ]
  },
  {
   "cell_type": "code",
   "execution_count": 74,
   "metadata": {},
   "outputs": [
    {
     "data": {
      "text/html": [
       "<div>\n",
       "<style scoped>\n",
       "    .dataframe tbody tr th:only-of-type {\n",
       "        vertical-align: middle;\n",
       "    }\n",
       "\n",
       "    .dataframe tbody tr th {\n",
       "        vertical-align: top;\n",
       "    }\n",
       "\n",
       "    .dataframe thead th {\n",
       "        text-align: right;\n",
       "    }\n",
       "</style>\n",
       "<table border=\"1\" class=\"dataframe\">\n",
       "  <thead>\n",
       "    <tr style=\"text-align: right;\">\n",
       "      <th></th>\n",
       "      <th>data_source</th>\n",
       "      <th>label</th>\n",
       "      <th>file_name</th>\n",
       "      <th>is_header</th>\n",
       "      <th>content</th>\n",
       "    </tr>\n",
       "  </thead>\n",
       "  <tbody>\n",
       "    <tr>\n",
       "      <td>0</td>\n",
       "      <td>crypto-library</td>\n",
       "      <td>1</td>\n",
       "      <td>/Users/red/Documents/CP/crypto_code_detection/...</td>\n",
       "      <td>False</td>\n",
       "      <td>/* primegen.c - prime number generator\\n * Cop...</td>\n",
       "    </tr>\n",
       "    <tr>\n",
       "      <td>1</td>\n",
       "      <td>others</td>\n",
       "      <td>0</td>\n",
       "      <td>c_impl.c</td>\n",
       "      <td>False</td>\n",
       "      <td>#include &lt;stdio.h&gt;\\n\\nfloat f (char *str, int ...</td>\n",
       "    </tr>\n",
       "  </tbody>\n",
       "</table>\n",
       "</div>"
      ],
      "text/plain": [
       "      data_source  label                                          file_name  \\\n",
       "0  crypto-library      1  /Users/red/Documents/CP/crypto_code_detection/...   \n",
       "1          others      0                                           c_impl.c   \n",
       "\n",
       "   is_header                                            content  \n",
       "0      False  /* primegen.c - prime number generator\\n * Cop...  \n",
       "1      False  #include <stdio.h>\\n\\nfloat f (char *str, int ...  "
      ]
     },
     "execution_count": 74,
     "metadata": {},
     "output_type": "execute_result"
    }
   ],
   "source": [
    "dataframe.head(2)"
   ]
  },
  {
   "cell_type": "code",
   "execution_count": 75,
   "metadata": {},
   "outputs": [
    {
     "data": {
      "text/plain": [
       "'9,136'"
      ]
     },
     "execution_count": 75,
     "metadata": {},
     "output_type": "execute_result"
    }
   ],
   "source": [
    "'{:,}'.format(len(dataframe))"
   ]
  },
  {
   "cell_type": "markdown",
   "metadata": {},
   "source": [
    "Target value:"
   ]
  },
  {
   "cell_type": "code",
   "execution_count": 76,
   "metadata": {},
   "outputs": [
    {
     "data": {
      "text/plain": [
       "0    8045\n",
       "1    1091\n",
       "Name: label, dtype: int64"
      ]
     },
     "execution_count": 76,
     "metadata": {},
     "output_type": "execute_result"
    }
   ],
   "source": [
    "dataframe.label.value_counts()"
   ]
  },
  {
   "cell_type": "markdown",
   "metadata": {},
   "source": [
    "Remove comments:"
   ]
  },
  {
   "cell_type": "markdown",
   "metadata": {},
   "source": [
    "Grab docs (code submissions) and labels (correct or not):"
   ]
  },
  {
   "cell_type": "code",
   "execution_count": 77,
   "metadata": {},
   "outputs": [],
   "source": [
    "import re\n",
    "\n",
    "def remove_comments(string):\n",
    "    # remove all occurrences streamed comments (/*COMMENT */) from string\n",
    "    string = re.sub(re.compile(r\"/\\*.*?\\*/\",re.DOTALL ) , \"\" , string) \n",
    "    # remove all occurrence single-line comments (//COMMENT\\n ) from string\n",
    "    string = re.sub(re.compile(r\"//.*?\\n\" ) , \"\" , string)\n",
    "    return string\n",
    "\n",
    "\n",
    "def get_docs_and_labels(df):\n",
    "    _docs = []\n",
    "    _labels = []\n",
    "    for index in df.index:\n",
    "        # Program\n",
    "        \n",
    "        code = remove_comments(\n",
    "            df.at[index, 'content']\n",
    "        )\n",
    "        _docs.append(code)\n",
    "        # Label\n",
    "        label = int(df.at[index, 'label'])\n",
    "        _labels.append(label)\n",
    "    return _docs, _labels"
   ]
  },
  {
   "cell_type": "code",
   "execution_count": 78,
   "metadata": {},
   "outputs": [],
   "source": [
    "docs, labels = get_docs_and_labels(dataframe)"
   ]
  },
  {
   "cell_type": "code",
   "execution_count": 79,
   "metadata": {},
   "outputs": [
    {
     "data": {
      "text/plain": [
       "'9,136'"
      ]
     },
     "execution_count": 79,
     "metadata": {},
     "output_type": "execute_result"
    }
   ],
   "source": [
    "'{:,}'.format(len(docs))"
   ]
  },
  {
   "cell_type": "code",
   "execution_count": 80,
   "metadata": {},
   "outputs": [
    {
     "name": "stdout",
     "output_type": "stream",
     "text": [
      "(1, '#include <stdio.h>\\n\\nfloat f (char *str, int n) {\\n  printf (\"str is: %s\\\\nn is: %d\\\\n\", str, n);\\n  return n*n;\\n}\\n')\n",
      "(2, '#include <iostream>\\n\\nusing namespace std;\\n\\nlong long gcd(long long x, long long y)\\n{\\n\\tif (x % y == 0) return y;\\n\\telse\\n\\t\\treturn gcd(y, x % y);\\n}\\n\\nint main()\\n{\\n\\n\\tfreopen(\"A-large.in\", \"r\", stdin);\\n\\tfreopen(\"A-large.out\", \"w\", stdout);\\n\\tint T;\\n\\tcin >> T;\\n\\tfor (int tt = 1 ; tt <= T; tt++)\\n\\t{\\n\\t\\tstring s;\\n\\t\\tcin >> s;\\n\\t\\tint l = s.length();\\n\\t\\tlong long numb[2];\\n\\t\\tnumb[0] = numb[1] = 0;\\n\\t\\tint now = 0;\\n\\t\\tfor (int i = 0 ; i < l ; i++)\\n\\t\\t{\\n\\t\\t\\tif (s[i] == \\'/\\') now++;\\n\\t\\t\\telse\\n\\t\\t\\t{\\n\\t\\t\\t\\tnumb[now] = numb[now] * 10 + (long long)(s[i] - \\'0\\');\\n\\t\\t\\t}\\n\\t\\t}\\n\\n\\t\\tint ans = 0;\\n\\n\\t\\tlong long ggcd = gcd(numb[0], numb[1]);\\n\\t\\tnumb[0] /= ggcd;\\n\\t\\tnumb[1] /= ggcd;\\n\\n\\t\\tlong long now_f = numb[1];\\n\\n\\t\\twhile (now_f != 1)\\n\\t\\t{\\n\\t\\t\\tif (now_f % 2 != 0)\\n\\t\\t\\t{\\n\\t\\t\\t\\tans = -1;\\n\\t\\t\\t\\tbreak;\\n\\t\\t\\t}\\n\\t\\t\\telse {\\n\\t\\t\\t\\tnow_f /= 2;\\n\\t\\t\\t}\\n\\t\\t}\\n\\n\\t\\tif (ans == -1)\\n\\t\\t{\\n\\t\\t\\tcout << \"Case #\" << tt << \": \" << \"impossible\" << endl;\\n\\t\\t}\\n\\t\\telse {\\n\\n\\t\\t\\twhile (numb[1] != 1)\\n\\t\\t\\t{\\n\\t\\t\\t\\tif (numb[1] > numb[0]) \\n\\t\\t\\t\\t{\\n\\t\\t\\t\\t\\tnumb[1] /= 2;\\n\\t\\t\\t\\t\\tans ++;\\n\\t\\t\\t\\t}\\n\\t\\t\\t\\telse break;\\n\\t\\t\\t}\\n\\t\\t\\tcout << \"Case #\" << tt << \": \" << ans << endl;\\n\\t\\t}\\n\\t}\\n}')\n",
      "(3, '#include<cstdio>\\n#include<vector>\\n#include<cstring>\\n#include<cmath>\\n#include<cstdlib>\\n#include<ctime>\\n#include<map>\\n#include<set>\\n#include<queue>\\n#include<algorithm>\\n\\nusing namespace std;\\n\\nint nr, R, C, N, mini, ap[109][109], cod[109][109], X[109], Y[109];\\n\\nint main()\\n{\\n//freopen (\"input\", \"r\", stdin);\\n//freopen (\"output\", \"w\", stdout);\\n\\nint test = 0, T;\\nscanf (\"%d\", &T);\\nwhile (test < T)\\n{\\n    printf (\"Case #%d: \", ++test);\\n\\n    scanf (\"%d %d %d\", &R, &C, &N);\\n    nr = 0;\\n    for (int i=1; i<=R; i++)\\n        for (int j=1; j<=C; j++)\\n            cod[i][j] = nr ++, X[cod[i][j]] = i, Y[cod[i][j]] = j;\\n\\n    int mini = 1000000;\\n    for (int msk = 0; msk < (1<<nr); msk ++)\\n    {\\n        for (int i=1; i<=R; i++)\\n            for (int j=1; j<=C; j++)\\n                ap[i][j] = 0;\\n\\n        int vol = 0;\\n        for (int i=0; i<nr; i++)\\n            if (msk & (1<<i))\\n                ap[X[i]][Y[i]] = 1, vol ++;\\n\\n        if (vol != N)\\n            continue;\\n\\n        int Cost = 0;\\n        for (int i=1; i<R; i++)\\n            for (int j=1; j<=C; j++)\\n                Cost += (ap[i][j] & ap[i+1][j]);\\n\\n        for (int i=1; i<=R; i++)\\n            for (int j=1; j<C; j++)\\n                Cost += (ap[i][j] & ap[i][j+1]);\\n\\n        if (Cost < mini)\\n            mini = Cost;\\n    }\\n    printf (\"%d\\\\n\", mini);\\n}\\n\\nreturn 0;\\n}\\n')\n",
      "(4, '#ifndef __NAT_H__\\n#define __NAT_H__\\n\\nstruct netif;\\n\\nint nat_add(struct netif *out_if, struct netif *in_if);\\n\\n#endif\\n')\n",
      "(5, '/*\\n * This file comes from the jsoncvt-1.0.9 distribution, and is covered by\\n * the following license:\\n *\\n * Copyright â“’ 2014, 2015 Robert S. Krzaczek.\\n * \\n * Permission is hereby granted, free of charge, to any person obtaining\\n * a copy of this software and associated documentation files (the\\n * â€œSoftwareâ€�), to deal in the Software without restriction, including\\n * without limitation the rights to use, copy, modify, merge, publish,\\n * distribute, sublicense, and/or sell copies of the Software, and to\\n * permit persons to whom the Software is furnished to do so, subject to\\n * the following conditions:\\n * \\n * The above copyright notice and this permission notice shall be\\n * included in all copies or substantial portions of the Software.\\n * \\n * THE SOFTWARE IS PROVIDED â€œAS ISâ€�, WITHOUT WARRANTY OF ANY KIND,\\n * EXPRESS OR IMPLIED, INCLUDING BUT NOT LIMITED TO THE WARRANTIES OF\\n * MERCHANTABILITY, FITNESS FOR A PARTICULAR PURPOSE AND NONINFRINGEMENT.\\n * IN NO EVENT SHALL THE AUTHOR OR COPYRIGHT HOLDER BE LIABLE FOR ANY\\n * CLAIM, DAMAGES OR OTHER LIABILITY, WHETHER IN AN ACTION OF CONTRACT,\\n * TORT OR OTHERWISE, ARISING FROM, OUT OF OR IN CONNECTION WITH THE\\n * SOFTWARE OR THE USE OR OTHER DEALINGS IN THE SOFTWARE.\\n */\\n#define _POSIX_C_SOURCE 200112L\\n#include <err.h>\\n#include <stddef.h>\\n#include <stdlib.h>\\n#include <string.h>\\n#include \"ptrvec.h\"\\n\\nenum {\\n    /** Ptrvecs start out with space for this many pointers. The number\\n     *  is pretty much arbitrary; if you think all of your ptrvecs are\\n     *  going to be extensive, free free to bump this value up to a\\n     *  bigger initial size to reduce the load on realloc(3). */\\n    pv_initial_size = 8\\n};\\n\\n/** Allocate a new ptrvec from the heap, initialize it as zero, and\\n *  return a pointer to it. */\\nptrvec *\\npvnew()\\n{\\n    ptrvec *p = malloc( sizeof( *p ));\\n    *p = (ptrvec){0};\\n    return p;\\n}\\n\\n/** If the supplied ptrvec has any storage allocated, return it to the\\n *  heap. The ptrvec itself is not freed. Whereas pvdel() is useful for\\n *  entirely heap-based objects (typically obtained from pvnew()),\\n *  pvclear() is useful at tne end of functions that use a stack-based\\n *  ptrvec object. */\\nptrvec *\\npvclear( ptrvec *pv )\\n{\\n    if( !pv )\\n\\treturn 0;\\n    if( pv->p )\\n\\tfree( pv->p );\\n    *pv = (ptrvec){ 0 };\\n    return pv;\\n}\\n\\n/** Return a new void** that is a copy of the one we\\'ve been building\\n *  in our ptrvec. Unlike our member p, this one will be allocated from\\n *  the heap and contains just enough space to hold the current\\n *  contents of p including its terminating null. */\\nvoid **\\npvdup( const ptrvec *pv )\\n{\\n    void **v;\\n\\n    if( !pv ) {\\n\\tv = malloc( sizeof( *v ));\\n\\t*v = 0;\\n    } else {\\n\\tsize_t nb = sizeof( void* ) * ( pv->len + 1 );\\n\\tv = malloc( nb );\\n\\tif( pv->p )\\n\\t    memcpy( v, pv->p, nb );\\n\\telse\\n\\t    memset( v, 0, nb );\\n    }\\n\\n    return v;\\n}\\n\\n/** A wrapper for the common case at the end of working with a ptrvec.\\n *  Return a null terminated void** ready for storage somewhere, and\\n *  kill our own storage so that the next thing to come along can use\\n *  our memory. */\\nvoid **\\npvfinal( ptrvec *pv )\\n{\\n    void **v = pvdup( pv );\\n    pvclear( pv );\\n    return v;\\n}\\n\\n/** Return a ptrvec and its pointers to the head. Once called, the\\n *  supplied pointer is <em>no longer valid.</em> Memory at this old\\n *  ptrvec is zeroed prior to being freed. */\\nvoid\\npvdel( ptrvec *pv )\\n{\\n    if( pv )\\n\\tfree( pvclear( pv ));\\n}\\n\\n/** Force the supplied ptrvec to contain exactly some number of\\n *  pointers. */\\nptrvec *\\npvsize( ptrvec *pv, size_t sz )\\n{\\n    if( !sz )\\n\\treturn pvclear( pv );\\n\\n    pv->p = realloc( pv->p, ( pv->sz = sz ) * sizeof( *pv->p ));\\n    if( pv->len >= pv->sz ) {\\n\\tpv->len = pv->sz - 1;\\n\\tpv->p[ pv->len ] = 0;\\n    }\\n    return pv;\\n}\\n\\n/** Ensures that the supplied ptrvec has at least some number of\\n *  pointers. If it doesn\\'t, the region of pointers in the ptrvec are\\n *  reallocated. Unlike pvsize(), pvensure() grows the ptrvec in a way\\n *  that hopefully avoids constant reallocations. */\\nptrvec *\\npvensure( ptrvec *pv, size_t sz )\\n{\\n    size_t newsz;\\n    \\n    if( !pv )\\n\\treturn 0;\\n    else if( !sz || sz <= pv->sz )\\n\\treturn pv;\\n    else if( !pv->sz && sz <= pv_initial_size )\\n\\treturn pvsize( pv, pv_initial_size );\\n\\n    /* Choose the next size up for this ptrvec as either 150% of its\\n       current size, or if that\\'s not big enough, 150% of the\\n       requested size. Either is meant to add enough padding so that\\n       we hopefully don\\'t come back here too soon. */\\n    newsz = pv->sz * 3 / 2;\\n    if( newsz < sz )\\n\\tnewsz = sz * 3 / 2;\\n\\n    /* Imperfect, but should catch most overflows, when newsz has\\n       rolled past SIZE_MAX. */\\n    if( newsz < pv->sz )\\n\\terrx( 1, \"ptrvec overflow\" );\\n\\n    return pvsize( pv, newsz );\\n}\\n\\n/** Add a pointer to the end of the set of pointers managed in this\\n *  ptrvec. The size of the region is managed. The sz might grow a lot,\\n *  but len will only ever grow by one. */\\nptrvec *\\npvadd( ptrvec *pv, void *v )\\n{\\n    pvensure( pv, pv->len + 2 );\\n    pv->p[ pv->len++ ] = v;\\n    pv->p[ pv->len ] = 0;\\n    return pv;\\n}\\n')\n"
     ]
    }
   ],
   "source": [
    "for item in dataframe.loc[1:5,'content'].iteritems():\n",
    "    print(item)"
   ]
  },
  {
   "cell_type": "markdown",
   "metadata": {},
   "source": [
    "## Tokenize code and generate sequences"
   ]
  },
  {
   "cell_type": "code",
   "execution_count": 81,
   "metadata": {
    "scrolled": true
   },
   "outputs": [],
   "source": [
    "import os\n",
    "#To ignore the warnings\n",
    "os.environ['TF_CPP_MIN_LOG_LEVEL'] = '3'\n",
    "\n",
    "from keras.preprocessing.text import Tokenizer"
   ]
  },
  {
   "cell_type": "code",
   "execution_count": 82,
   "metadata": {},
   "outputs": [],
   "source": [
    "#We set the size of the vocabulary\n",
    "NUM_WORDS = 10000"
   ]
  },
  {
   "cell_type": "code",
   "execution_count": 83,
   "metadata": {},
   "outputs": [],
   "source": [
    "tokenizer = Tokenizer(num_words=NUM_WORDS, \n",
    "                     filters='\\t\\n,', \n",
    "                     lower=True, \n",
    "                     split=' ', \n",
    "                     char_level=False)"
   ]
  },
  {
   "cell_type": "code",
   "execution_count": 84,
   "metadata": {},
   "outputs": [],
   "source": [
    "tokenizer.fit_on_texts(docs)"
   ]
  },
  {
   "cell_type": "code",
   "execution_count": 85,
   "metadata": {},
   "outputs": [
    {
     "data": {
      "text/plain": [
       "954951"
      ]
     },
     "execution_count": 85,
     "metadata": {},
     "output_type": "execute_result"
    }
   ],
   "source": [
    "# Size of the vocabulary\n",
    "len(tokenizer.word_index) "
   ]
  },
  {
   "cell_type": "code",
   "execution_count": 86,
   "metadata": {},
   "outputs": [
    {
     "data": {
      "text/plain": [
       "'Number docs: 9,136'"
      ]
     },
     "execution_count": 86,
     "metadata": {},
     "output_type": "execute_result"
    }
   ],
   "source": [
    "# document_count: an integer count of the total number of documents that were used to fit the Tokenizer.\n",
    "'Number docs: {:,}'.format(tokenizer.document_count)"
   ]
  },
  {
   "cell_type": "code",
   "execution_count": 87,
   "metadata": {},
   "outputs": [
    {
     "data": {
      "text/plain": [
       "100404"
      ]
     },
     "execution_count": 87,
     "metadata": {},
     "output_type": "execute_result"
    }
   ],
   "source": [
    "# Number of occurences of if in the dataset\n",
    "tokenizer.word_counts['if'] # index"
   ]
  },
  {
   "cell_type": "code",
   "execution_count": 88,
   "metadata": {},
   "outputs": [
    {
     "data": {
      "text/plain": [
       "4831"
      ]
     },
     "execution_count": 88,
     "metadata": {},
     "output_type": "execute_result"
    }
   ],
   "source": [
    "# word_docs: a dictionary of words and how many documents each appeared in.\n",
    "tokenizer.word_docs['if']"
   ]
  },
  {
   "cell_type": "code",
   "execution_count": 89,
   "metadata": {},
   "outputs": [],
   "source": [
    "sequences = tokenizer.texts_to_sequences(docs)"
   ]
  },
  {
   "cell_type": "markdown",
   "metadata": {},
   "source": [
    "Let's look at the length distribution of the sequences to know what max size to choose"
   ]
  },
  {
   "cell_type": "code",
   "execution_count": 90,
   "metadata": {},
   "outputs": [
    {
     "data": {
      "text/plain": [
       "(498.305823117338, 2955.3337341199535, 153266)"
      ]
     },
     "execution_count": 90,
     "metadata": {},
     "output_type": "execute_result"
    }
   ],
   "source": [
    "len_seqs = [len(s) for s in sequences]\n",
    "np.mean(len_seqs), np.std(len_seqs), np.max(len_seqs)"
   ]
  },
  {
   "cell_type": "markdown",
   "metadata": {},
   "source": [
    "The mean is at 600 but the standard deviation is much bigger"
   ]
  },
  {
   "cell_type": "code",
   "execution_count": 91,
   "metadata": {},
   "outputs": [],
   "source": [
    "MAX_LENGTH = 1000"
   ]
  },
  {
   "cell_type": "markdown",
   "metadata": {},
   "source": [
    "Dictionary to transform a vector back to the program:"
   ]
  },
  {
   "cell_type": "code",
   "execution_count": 92,
   "metadata": {},
   "outputs": [],
   "source": [
    "id_to_word = { v: k for k, v in tokenizer.word_index.items() }"
   ]
  },
  {
   "cell_type": "code",
   "execution_count": 93,
   "metadata": {},
   "outputs": [
    {
     "data": {
      "text/plain": [
       "'='"
      ]
     },
     "execution_count": 93,
     "metadata": {},
     "output_type": "execute_result"
    }
   ],
   "source": [
    "id_to_word[1]"
   ]
  },
  {
   "cell_type": "code",
   "execution_count": 94,
   "metadata": {},
   "outputs": [
    {
     "data": {
      "text/plain": [
       "['#include',\n",
       " '<config.h>',\n",
       " '#include',\n",
       " '<stdio.h>',\n",
       " '#include',\n",
       " '<stdlib.h>',\n",
       " '#include',\n",
       " '<string.h>',\n",
       " '#include',\n",
       " '<errno.h>']"
      ]
     },
     "execution_count": 94,
     "metadata": {},
     "output_type": "execute_result"
    }
   ],
   "source": [
    "[id_to_word[index] for index in sequences[0]][0:10]"
   ]
  },
  {
   "cell_type": "markdown",
   "metadata": {
    "collapsed": true
   },
   "source": [
    "Pad documents:"
   ]
  },
  {
   "cell_type": "code",
   "execution_count": 95,
   "metadata": {},
   "outputs": [],
   "source": [
    "from keras.preprocessing.sequence import pad_sequences\n",
    "# pad documents\n",
    "padded_docs = pad_sequences(sequences, maxlen=MAX_LENGTH, padding='post')"
   ]
  },
  {
   "cell_type": "code",
   "execution_count": 96,
   "metadata": {},
   "outputs": [
    {
     "data": {
      "text/plain": [
       "array([  21, 8986, 1927,    1,   48, 1927,   42,   63,   28, 1927],\n",
       "      dtype=int32)"
      ]
     },
     "execution_count": 96,
     "metadata": {},
     "output_type": "execute_result"
    }
   ],
   "source": [
    "padded_docs[0][0:10]"
   ]
  },
  {
   "cell_type": "markdown",
   "metadata": {},
   "source": [
    "## Defining the model"
   ]
  },
  {
   "cell_type": "code",
   "execution_count": 97,
   "metadata": {},
   "outputs": [],
   "source": [
    "from keras import backend as K\n",
    "from keras.models import Sequential\n",
    "from keras.layers import Flatten, Dense, Dropout\n",
    "from keras.layers.embeddings import Embedding\n",
    "\n",
    "#We add the epsilon to avoid any error in the function\n",
    "\n",
    "def precision_(y_true, y_pred):\n",
    "    true_positives = K.sum(K.round(K.clip(y_true * y_pred, 0, 1)))\n",
    "    predicted_positives = K.sum(K.round(K.clip(y_pred, 0, 1)))\n",
    "    precision = true_positives / (predicted_positives + K.epsilon())\n",
    "    return precision\n",
    "    \n",
    "def recall_(y_true, y_pred):\n",
    "    true_positives = K.sum(K.round(K.clip(y_true * y_pred, 0, 1)))\n",
    "    possible_positives = K.sum(K.round(K.clip(y_true, 0, 1)))\n",
    "    recall = true_positives / (possible_positives + K.epsilon())\n",
    "    return recall\n",
    "\n",
    "def f1(y_true, y_pred):\n",
    "    \n",
    "    precision = precision_(y_true, y_pred)\n",
    "    recall = recall_(y_true, y_pred)\n",
    "    return 2*((precision*recall)/(precision+recall+K.epsilon()))\n",
    "\n",
    "def f2(y_true, y_pred):\n",
    "    \n",
    "    precision = precision_(y_true, y_pred)\n",
    "    recall = recall_(y_true, y_pred)\n",
    "    return 5*((precision*recall)/(4*precision+recall+K.epsilon()))"
   ]
  },
  {
   "cell_type": "code",
   "execution_count": 98,
   "metadata": {},
   "outputs": [
    {
     "name": "stdout",
     "output_type": "stream",
     "text": [
      "_________________________________________________________________\n",
      "Layer (type)                 Output Shape              Param #   \n",
      "=================================================================\n",
      "embedding_2 (Embedding)      (None, 1000, 50)          500000    \n",
      "_________________________________________________________________\n",
      "flatten_2 (Flatten)          (None, 50000)             0         \n",
      "_________________________________________________________________\n",
      "dropout_2 (Dropout)          (None, 50000)             0         \n",
      "_________________________________________________________________\n",
      "dense_2 (Dense)              (None, 1)                 50001     \n",
      "=================================================================\n",
      "Total params: 550,001\n",
      "Trainable params: 550,001\n",
      "Non-trainable params: 0\n",
      "_________________________________________________________________\n",
      "None\n"
     ]
    }
   ],
   "source": [
    "# define the model\n",
    "model = Sequential()\n",
    "model.add(Embedding(NUM_WORDS, 50, input_length=MAX_LENGTH))\n",
    "model.add(Flatten())\n",
    "model.add(Dropout(rate=0.3))\n",
    "model.add(Dense(1, activation='sigmoid'))\n",
    "    \n",
    "model.compile(optimizer='adam', \n",
    "                  loss='binary_crossentropy', \n",
    "                  metrics=['acc', f1,f2,precision_,recall_])\n",
    "\n",
    "print(model.summary())"
   ]
  },
  {
   "cell_type": "code",
   "execution_count": 99,
   "metadata": {},
   "outputs": [],
   "source": [
    "def plot(history):\n",
    "  \n",
    "  # The history object contains results on the training and test\n",
    "  # sets for each epoch\n",
    "    acc = history.history['recall_']\n",
    "    val_acc = history.history['val_recall_']\n",
    "    loss = history.history['loss']\n",
    "    val_loss = history.history['val_loss']\n",
    "\n",
    "    # Get the number of epochs\n",
    "    epochs = range(len(acc))\n",
    "\n",
    "    plt.title('Training and validation recall')\n",
    "    plt.plot(epochs, acc, color='blue', label='Train')\n",
    "    plt.plot(epochs, val_acc, color='orange', label='Val')\n",
    "    plt.xlabel('Epoch')\n",
    "    plt.ylabel('Recall')\n",
    "    plt.legend()\n",
    "    plt.savefig('../code_embedding/plots/training_recall.png')\n",
    "\n",
    "    _ = plt.figure()\n",
    "    plt.title('Training and validation loss')\n",
    "    plt.plot(epochs, loss, color='blue', label='Train')\n",
    "    plt.plot(epochs, val_loss, color='orange', label='Val')\n",
    "    plt.xlabel('Epoch')\n",
    "    plt.ylabel('Loss')\n",
    "    plt.legend()\n",
    "    plt.savefig('../code_embedding/plots/training_loss.png')"
   ]
  },
  {
   "cell_type": "code",
   "execution_count": 100,
   "metadata": {},
   "outputs": [],
   "source": [
    "from sklearn.model_selection import train_test_split\n",
    "\n",
    "indices = np.arange(padded_docs.shape[0])\n",
    "\n",
    "X_train, X_test, y_train, y_test,train_idx, test_idx = train_test_split(padded_docs, labels,indices, \n",
    "                                                    test_size=0.2, random_state=0,\n",
    "                                                    stratify=labels)"
   ]
  },
  {
   "cell_type": "code",
   "execution_count": 101,
   "metadata": {},
   "outputs": [
    {
     "data": {
      "text/plain": [
       "True"
      ]
     },
     "execution_count": 101,
     "metadata": {},
     "output_type": "execute_result"
    }
   ],
   "source": [
    "#Checking the indexing\n",
    "(X_test[0] == padded_docs[test_idx[0]]).all()"
   ]
  },
  {
   "cell_type": "code",
   "execution_count": 102,
   "metadata": {
    "scrolled": false
   },
   "outputs": [
    {
     "name": "stdout",
     "output_type": "stream",
     "text": [
      "Train on 7308 samples, validate on 1828 samples\n",
      "Epoch 1/5\n",
      "7308/7308 [==============================] - 46s 6ms/step - loss: 0.2061 - acc: 0.9268 - f1: 0.4796 - f2: 0.4469 - precision_: 0.6133 - recall_: 0.4321 - val_loss: 0.1021 - val_acc: 0.9650 - val_f1: 0.8293 - val_f2: 0.8039 - val_precision_: 0.9175 - val_recall_: 0.7948\n",
      "Epoch 2/5\n",
      "7308/7308 [==============================] - 35s 5ms/step - loss: 0.0653 - acc: 0.9796 - f1: 0.8495 - f2: 0.8378 - precision_: 0.8915 - recall_: 0.8347 - val_loss: 0.0875 - val_acc: 0.9639 - val_f1: 0.8269 - val_f2: 0.7812 - val_precision_: 0.9542 - val_recall_: 0.7574\n",
      "Epoch 3/5\n",
      "7308/7308 [==============================] - 35s 5ms/step - loss: 0.0367 - acc: 0.9888 - f1: 0.9275 - f2: 0.9141 - precision_: 0.9615 - recall_: 0.9072 - val_loss: 0.0788 - val_acc: 0.9705 - val_f1: 0.8631 - val_f2: 0.8380 - val_precision_: 0.9433 - val_recall_: 0.8275\n",
      "Epoch 4/5\n",
      "7308/7308 [==============================] - 35s 5ms/step - loss: 0.0256 - acc: 0.9922 - f1: 0.9394 - f2: 0.9298 - precision_: 0.9622 - recall_: 0.9247 - val_loss: 0.0799 - val_acc: 0.9694 - val_f1: 0.8562 - val_f2: 0.8294 - val_precision_: 0.9448 - val_recall_: 0.8182\n",
      "Epoch 5/5\n",
      "7308/7308 [==============================] - 34s 5ms/step - loss: 0.0191 - acc: 0.9951 - f1: 0.9569 - f2: 0.9485 - precision_: 0.9785 - recall_: 0.9440 - val_loss: 0.0775 - val_acc: 0.9737 - val_f1: 0.8772 - val_f2: 0.8699 - val_precision_: 0.9186 - val_recall_: 0.8710\n"
     ]
    }
   ],
   "source": [
    "# fit the model\n",
    "\n",
    "history = model.fit(X_train, \n",
    "          y_train,\n",
    "          epochs=5,\n",
    "          validation_data=(X_test,y_test))"
   ]
  },
  {
   "cell_type": "code",
   "execution_count": 103,
   "metadata": {},
   "outputs": [
    {
     "data": {
      "image/png": "[encoded data removed]",
      "text/plain": [
       "<Figure size 432x288 with 1 Axes>"
      ]
     },
     "metadata": {
      "needs_background": "light"
     },
     "output_type": "display_data"
    },
    {
     "data": {
      "image/png": "[encoded data removed]",
      "text/plain": [
       "<Figure size 432x288 with 1 Axes>"
      ]
     },
     "metadata": {
      "needs_background": "light"
     },
     "output_type": "display_data"
    }
   ],
   "source": [
    "plot(history)"
   ]
  },
  {
   "cell_type": "code",
   "execution_count": 104,
   "metadata": {},
   "outputs": [
    {
     "name": "stdout",
     "output_type": "stream",
     "text": [
      "1828/1828 [==============================] - 0s 98us/step\n",
      "Accuracy: 97.374179, F1: 87.721708, F2: 86.993035, precision: 91.863428, recall: 87.100135\n"
     ]
    }
   ],
   "source": [
    "# evaluate the model\n",
    "word_loss, word_accuracy, word_f1,word_f2, word_precision, word_recall = model.evaluate(X_test, y_test, verbose=1)\n",
    "print('Accuracy: %f, F1: %f, F2: %f, precision: %f, recall: %f' % (word_accuracy * 100, word_f1 * 100, word_f2 * 100, word_precision*100, word_recall*100))"
   ]
  },
  {
   "cell_type": "code",
   "execution_count": null,
   "metadata": {},
   "outputs": [],
   "source": [
    "word_score = {\n",
    "    'accuracy': word_accuracy,\n",
    "    'F1': word_f1,\n",
    "}\n",
    "embeddings_scores = { 'Word': word_score }"
   ]
  },
  {
   "cell_type": "code",
   "execution_count": null,
   "metadata": {},
   "outputs": [],
   "source": [
    "# Embedding Layer\n",
    "embedding_layer = model.layers[0]\n",
    "embeddings = embedding_layer.get_weights()[0]\n",
    "print('Embedding Layer shape:', embeddings.shape)"
   ]
  },
  {
   "cell_type": "code",
   "execution_count": null,
   "metadata": {},
   "outputs": [],
   "source": [
    "embeddings[0]"
   ]
  },
  {
   "cell_type": "code",
   "execution_count": null,
   "metadata": {},
   "outputs": [],
   "source": [
    "np.save('../code_embedding/embedding/word_embeddings', embeddings)"
   ]
  },
  {
   "cell_type": "code",
   "execution_count": null,
   "metadata": {},
   "outputs": [],
   "source": [
    "from sklearn.decomposition import PCA\n",
    "\n",
    "pca = PCA(n_components=2)\n",
    "principal_components = pca.fit_transform(embeddings)\n",
    "print('PCA explained variance ratio:', pca.explained_variance_ratio_, 'Total:', sum(pca.explained_variance_ratio_))"
   ]
  },
  {
   "cell_type": "code",
   "execution_count": null,
   "metadata": {},
   "outputs": [],
   "source": [
    "def get_top_words(tokenizer, N=50):\n",
    "    \n",
    "    return [word for word, occurrences in sorted(tokenizer.word_counts.items(), key=lambda t: t[1], reverse=True)[:N]]"
   ]
  },
  {
   "cell_type": "code",
   "execution_count": null,
   "metadata": {},
   "outputs": [],
   "source": [
    "top_words = get_top_words(tokenizer)"
   ]
  },
  {
   "cell_type": "code",
   "execution_count": null,
   "metadata": {},
   "outputs": [],
   "source": [
    "def plot_embeddings(low_dim_embs, id_to_word, top_words,id_plot, figsize=(8, 8)):\n",
    "\n",
    "    plt.figure(figsize=figsize, dpi=100)\n",
    "    #ax = plt.axes()\n",
    "    #ax.yaxis.set_major_locator(plt.NullLocator())\n",
    "    #ax.xaxis.set_major_locator(plt.NullLocator())\n",
    "    i = 0\n",
    "    while i < len(low_dim_embs):\n",
    "\n",
    "        if i in id_to_word:\n",
    "            \n",
    "            x, y = low_dim_embs[i, :]\n",
    "            word = id_to_word[i]\n",
    "\n",
    "            if word in top_words:\n",
    "                plt.scatter(x, y, color='b')\n",
    "                plt.annotate(word,\n",
    "                            xy=(x, y),\n",
    "                            xytext=(5, 2),\n",
    "                            textcoords='offset points',\n",
    "                            ha='right',\n",
    "                            va='bottom',\n",
    "                            fontsize=14)\n",
    "                plt.title(\"Embedding projected on PCA space\")\n",
    "        \n",
    "        i += 1\n",
    "    plt.savefig('../code_embedding/plots/pca_{}.png'.format(id_plot))"
   ]
  },
  {
   "cell_type": "code",
   "execution_count": null,
   "metadata": {
    "scrolled": false
   },
   "outputs": [],
   "source": [
    "plot_embeddings(principal_components, id_to_word, top_words,id_plot=0, figsize=(18, 18))"
   ]
  },
  {
   "cell_type": "code",
   "execution_count": null,
   "metadata": {},
   "outputs": [],
   "source": [
    "plot_embeddings(principal_components, id_to_word, get_top_words(tokenizer, 20), id_plot=1)"
   ]
  },
  {
   "cell_type": "markdown",
   "metadata": {},
   "source": [
    "Measure the distance between vectors:"
   ]
  },
  {
   "cell_type": "code",
   "execution_count": null,
   "metadata": {},
   "outputs": [],
   "source": [
    "from scipy.spatial.distance import euclidean, cosine\n",
    "\n",
    "def get_vector_distance(embeddings, tok, word1, word2):\n",
    "    \n",
    "    return euclidean(embeddings[tok.word_index[word1]], \n",
    "                     embeddings[tok.word_index[word2]])\n",
    "    \n",
    "def get_vector_cosine_distance(embeddings, tok, word1, word2):\n",
    "    \n",
    "    return cosine(embeddings[tok.word_index[word1]], \n",
    "                  embeddings[tok.word_index[word2]])"
   ]
  },
  {
   "cell_type": "markdown",
   "metadata": {},
   "source": [
    "Cosine similarity:"
   ]
  },
  {
   "cell_type": "code",
   "execution_count": null,
   "metadata": {},
   "outputs": [],
   "source": [
    "get_vector_cosine_distance(embeddings, tokenizer, 'x', 'y')"
   ]
  },
  {
   "cell_type": "code",
   "execution_count": null,
   "metadata": {},
   "outputs": [],
   "source": [
    "get_vector_cosine_distance(embeddings, tokenizer, '<<', '=')"
   ]
  },
  {
   "cell_type": "code",
   "execution_count": null,
   "metadata": {},
   "outputs": [],
   "source": [
    "get_vector_cosine_distance(embeddings, tokenizer, '+', '-')"
   ]
  },
  {
   "cell_type": "code",
   "execution_count": null,
   "metadata": {},
   "outputs": [],
   "source": [
    "get_vector_cosine_distance(embeddings, tokenizer, '(', ')')"
   ]
  },
  {
   "cell_type": "code",
   "execution_count": null,
   "metadata": {},
   "outputs": [],
   "source": [
    "get_vector_cosine_distance(embeddings, tokenizer, '{', '}')"
   ]
  },
  {
   "cell_type": "markdown",
   "metadata": {},
   "source": [
    "Euclidean distance:"
   ]
  },
  {
   "cell_type": "code",
   "execution_count": null,
   "metadata": {
    "scrolled": false
   },
   "outputs": [],
   "source": [
    "get_vector_distance(embeddings, tokenizer, '<<', '>>')"
   ]
  },
  {
   "cell_type": "code",
   "execution_count": null,
   "metadata": {},
   "outputs": [],
   "source": [
    "get_vector_distance(embeddings, tokenizer, 'x', 'y')"
   ]
  },
  {
   "cell_type": "code",
   "execution_count": null,
   "metadata": {},
   "outputs": [],
   "source": [
    "get_vector_distance(embeddings,tokenizer, 'if', 'elif')"
   ]
  },
  {
   "cell_type": "code",
   "execution_count": null,
   "metadata": {},
   "outputs": [],
   "source": [
    "get_vector_distance(embeddings, tokenizer, 'elif', 'else:')"
   ]
  },
  {
   "cell_type": "code",
   "execution_count": null,
   "metadata": {},
   "outputs": [],
   "source": [
    "get_vector_distance(embeddings, tokenizer, '+', '-')"
   ]
  },
  {
   "cell_type": "code",
   "execution_count": null,
   "metadata": {
    "scrolled": true
   },
   "outputs": [],
   "source": [
    "get_vector_distance(embeddings, tokenizer, 'for', 'while')"
   ]
  },
  {
   "cell_type": "markdown",
   "metadata": {},
   "source": [
    "## More complex architecture"
   ]
  },
  {
   "cell_type": "code",
   "execution_count": null,
   "metadata": {},
   "outputs": [],
   "source": [
    "from keras.layers import Conv1D, BatchNormalization, Dropout, MaxPooling1D\n",
    "from sklearn.metrics import f1_score\n",
    "\n",
    "model = Sequential()\n",
    "model.add(Embedding(NUM_WORDS, 50, input_length=MAX_LENGTH))\n",
    "model.add(Conv1D(32, 15, strides=1, activation='relu'))\n",
    "model.add(BatchNormalization())\n",
    "model.add(MaxPooling1D())\n",
    "model.add(Conv1D(32,15, strides=1, activation='relu'))\n",
    "model.add(BatchNormalization())\n",
    "model.add(MaxPooling1D())\n",
    "model.add(Conv1D(32,10, strides=1, activation='relu'))\n",
    "model.add(BatchNormalization())\n",
    "model.add(MaxPooling1D())\n",
    "model.add(Conv1D(32,10, strides=1, activation='relu'))\n",
    "model.add(BatchNormalization())\n",
    "model.add(MaxPooling1D())\n",
    "model.add(Flatten())\n",
    "model.add(Dropout(rate=0.5))\n",
    "model.add(Dense(1, activation='sigmoid'))\n",
    "\n",
    "model.compile(optimizer='adam', \n",
    "                  loss='binary_crossentropy', \n",
    "                  metrics=['acc', f1,f2,precision_,recall_])\n",
    "\n",
    "print(model.summary())\n",
    "                    "
   ]
  },
  {
   "cell_type": "markdown",
   "metadata": {},
   "source": [
    "# Result QA"
   ]
  },
  {
   "cell_type": "code",
   "execution_count": 105,
   "metadata": {},
   "outputs": [],
   "source": [
    "y_pred = model.predict(X_test)"
   ]
  },
  {
   "cell_type": "code",
   "execution_count": 106,
   "metadata": {},
   "outputs": [],
   "source": [
    "super_threshold_indices_1 = y_pred >= 0.5\n",
    "super_threshold_indices_0 = y_pred < 0.5\n",
    "y_pred[super_threshold_indices_1] = 1\n",
    "y_pred[super_threshold_indices_0] = 0\n",
    "y_pred = y_pred.reshape(y_pred.shape[0])"
   ]
  },
  {
   "cell_type": "code",
   "execution_count": 107,
   "metadata": {},
   "outputs": [],
   "source": [
    "y_false = np.where(y_pred != y_test)[0]"
   ]
  },
  {
   "cell_type": "code",
   "execution_count": 108,
   "metadata": {},
   "outputs": [
    {
     "data": {
      "text/plain": [
       "(48,)"
      ]
     },
     "execution_count": 108,
     "metadata": {},
     "output_type": "execute_result"
    }
   ],
   "source": [
    "y_false.shape"
   ]
  },
  {
   "cell_type": "code",
   "execution_count": 109,
   "metadata": {},
   "outputs": [
    {
     "name": "stdout",
     "output_type": "stream",
     "text": [
      "data_source                                  crypto-competitions\n",
      "label                                                          1\n",
      "file_name                                      libpolypasshash.c\n",
      "is_header                                                  False\n",
      "content        /*\\n * This file is Copyright Santiago Torres ...\n",
      "Name: 3708, dtype: object\n",
      "libpolypasshash.c\n",
      "------\n",
      "data_source                                       crypto-library\n",
      "label                                                          1\n",
      "file_name      /Users/red/Documents/CP/crypto_code_detection/...\n",
      "is_header                                                   True\n",
      "content        /*\\n * Copyright 1995-2016 The OpenSSL Project...\n",
      "Name: 2527, dtype: object\n",
      "/Users/red/Documents/CP/crypto_code_detection/data/crypto-library/files/open_ssl/des/spr.h\n",
      "------\n",
      "data_source                                       crypto-library\n",
      "label                                                          1\n",
      "file_name      /Users/red/Documents/CP/crypto_code_detection/...\n",
      "is_header                                                  False\n",
      "content        #include \"crypto_shorthash_siphash24.h\"\\n\\nsiz...\n",
      "Name: 5737, dtype: object\n",
      "/Users/red/Documents/CP/crypto_code_detection/data/crypto-library/files/libsodium/crypto_shorthash/siphash24/shorthash_siphashx24.c\n",
      "------\n",
      "data_source                                  crypto-competitions\n",
      "label                                                          1\n",
      "file_name                                  NorxCore32Streams.cpp\n",
      "is_header                                                  False\n",
      "content        #pragma once\\n\\n#ifndef NORX_NORX_CORE32_STREA...\n",
      "Name: 8439, dtype: object\n",
      "NorxCore32Streams.cpp\n",
      "------\n",
      "data_source                                       crypto-library\n",
      "label                                                          1\n",
      "file_name      /Users/red/Documents/CP/crypto_code_detection/...\n",
      "is_header                                                  False\n",
      "content        #include \"crypto_shorthash_siphash24.h\"\\n\\nsiz...\n",
      "Name: 148, dtype: object\n",
      "/Users/red/Documents/CP/crypto_code_detection/data/crypto-library/files/libsodium/crypto_shorthash/siphash24/shorthash_siphash24.c\n",
      "------\n",
      "data_source                                               others\n",
      "label                                                          0\n",
      "file_name                                                 lpvm.h\n",
      "is_header                                                   True\n",
      "content        /*\\n** $Id: lpvm.h $\\n*/\\n\\n#if !defined(lpvm_...\n",
      "Name: 3202, dtype: object\n",
      "lpvm.h\n",
      "------\n",
      "data_source                                               others\n",
      "label                                                          0\n",
      "file_name                                             simd-128.h\n",
      "is_header                                                   True\n",
      "content        #if !defined(SIMD_128_H__)\\n#define SIMD_128_H...\n",
      "Name: 109, dtype: object\n",
      "simd-128.h\n",
      "------\n",
      "data_source                                  crypto-competitions\n",
      "label                                                          1\n",
      "file_name                                             m3lcrypt.h\n",
      "is_header                                                   True\n",
      "content        /*********************************************...\n",
      "Name: 348, dtype: object\n",
      "m3lcrypt.h\n",
      "------\n",
      "data_source                                               others\n",
      "label                                                          0\n",
      "file_name                                               sha256.c\n",
      "is_header                                                  False\n",
      "content        /* sha256.c\\n**\\n** Copyright 2013, The Androi...\n",
      "Name: 1344, dtype: object\n",
      "sha256.c\n",
      "------\n",
      "data_source                                       crypto-library\n",
      "label                                                          1\n",
      "file_name      /Users/red/Documents/CP/crypto_code_detection/...\n",
      "is_header                                                  False\n",
      "content        /* rmd160.c  -\\tRIPE-MD160\\n * Copyright (C) 1...\n",
      "Name: 2434, dtype: object\n",
      "/Users/red/Documents/CP/crypto_code_detection/data/crypto-library/files/libgcrypt/rmd160.c\n",
      "------\n",
      "data_source                                       crypto-library\n",
      "label                                                          1\n",
      "file_name      /Users/red/Documents/CP/crypto_code_detection/...\n",
      "is_header                                                  False\n",
      "content        /**\\n * \\file chacha20.c\\n *\\n * \\brief ChaCha...\n",
      "Name: 4599, dtype: object\n",
      "/Users/red/Documents/CP/crypto_code_detection/data/crypto-library/files/ARMmbed/chacha20.c\n",
      "------\n",
      "data_source                                  crypto-competitions\n",
      "label                                                          1\n",
      "file_name                                             blowfish.h\n",
      "is_header                                                   True\n",
      "content        // Copyright (c) 2014 Steve Thomas <steve AT t...\n",
      "Name: 8039, dtype: object\n",
      "blowfish.h\n",
      "------\n",
      "data_source                                       crypto-library\n",
      "label                                                          1\n",
      "file_name      /Users/red/Documents/CP/crypto_code_detection/...\n",
      "is_header                                                   True\n",
      "content        #ifndef ladder_base_namespace_H\\n#define ladde...\n",
      "Name: 8878, dtype: object\n",
      "/Users/red/Documents/CP/crypto_code_detection/data/crypto-library/files/libsodium/crypto_scalarmult/curve25519/sandy2x/ladder_base_namespace.h\n",
      "------\n",
      "data_source                                               others\n",
      "label                                                          0\n",
      "file_name                                                md5.cpp\n",
      "is_header                                                  False\n",
      "content        #include \"md5.h\"\\n\\n/* Define the static membe...\n",
      "Name: 1625, dtype: object\n",
      "md5.cpp\n",
      "------\n",
      "data_source                                  crypto-competitions\n",
      "label                                                          1\n",
      "file_name                                  NorxCore64Streams.cpp\n",
      "is_header                                                  False\n",
      "content        #pragma once\\n\\n#ifndef NORX_NORX_CORE64_STREA...\n",
      "Name: 4268, dtype: object\n",
      "NorxCore64Streams.cpp\n",
      "------\n",
      "data_source                                  crypto-competitions\n",
      "label                                                          1\n",
      "file_name                                  KeccakNISTInterface.h\n",
      "is_header                                                   True\n",
      "content        /*\\nThe Keccak sponge function, designed by Gu...\n",
      "Name: 7782, dtype: object\n",
      "KeccakNISTInterface.h\n",
      "------\n",
      "data_source                                       crypto-library\n",
      "label                                                          1\n",
      "file_name      /Users/red/Documents/CP/crypto_code_detection/...\n",
      "is_header                                                  False\n",
      "content        \\n#include <assert.h>\\n#include <errno.h>\\n#in...\n",
      "Name: 3343, dtype: object\n",
      "/Users/red/Documents/CP/crypto_code_detection/data/crypto-library/files/libsodium/randombytes/sysrandom/randombytes_sysrandom.c\n",
      "------\n",
      "data_source                                       crypto-library\n",
      "label                                                          1\n",
      "file_name      /Users/red/Documents/CP/crypto_code_detection/...\n",
      "is_header                                                  False\n",
      "content        /*\\n * Copyright 2011-2018 The OpenSSL Project...\n",
      "Name: 6131, dtype: object\n",
      "/Users/red/Documents/CP/crypto_code_detection/data/crypto-library/files/open_ssl/rand/drbg_lib.c\n",
      "------\n",
      "data_source                                               others\n",
      "label                                                          0\n",
      "file_name                                              ffi_fnv.c\n",
      "is_header                                                  False\n",
      "content        /*\\n * based on https://github.com/robey/rbfnv...\n",
      "Name: 6457, dtype: object\n",
      "ffi_fnv.c\n",
      "------\n",
      "data_source                                  crypto-competitions\n",
      "label                                                          1\n",
      "file_name                  omdsha512k512n256tau256v1_omdsha512.h\n",
      "is_header                                                   True\n",
      "content        /**\\n * The implementation of the omdsha512 mo...\n",
      "Name: 891, dtype: object\n",
      "omdsha512k512n256tau256v1_omdsha512.h\n",
      "------\n",
      "data_source                                       crypto-library\n",
      "label                                                          1\n",
      "file_name      /Users/red/Documents/CP/crypto_code_detection/...\n",
      "is_header                                                   True\n",
      "content        /* camellia.h\\tver 1.2.0\\n *\\n * Copyright (C)...\n",
      "Name: 6919, dtype: object\n",
      "/Users/red/Documents/CP/crypto_code_detection/data/crypto-library/files/libgcrypt/camellia.h\n",
      "------\n",
      "data_source                                       crypto-library\n",
      "label                                                          1\n",
      "file_name      /Users/red/Documents/CP/crypto_code_detection/...\n",
      "is_header                                                   True\n",
      "content        /*\\n * Argon2 source code package\\n *\\n * Writ...\n",
      "Name: 1256, dtype: object\n",
      "/Users/red/Documents/CP/crypto_code_detection/data/crypto-library/files/libsodium/crypto_pwhash/argon2/argon2-core.h\n",
      "------\n",
      "data_source                                       crypto-library\n",
      "label                                                          1\n",
      "file_name      /Users/red/Documents/CP/crypto_code_detection/...\n",
      "is_header                                                  False\n",
      "content        /*\\n *  Threading abstraction layer\\n *\\n *  C...\n",
      "Name: 8600, dtype: object\n",
      "/Users/red/Documents/CP/crypto_code_detection/data/crypto-library/files/ARMmbed/threading.c\n",
      "------\n",
      "data_source                                               others\n",
      "label                                                          0\n",
      "file_name                                              hexdump.c\n",
      "is_header                                                  False\n",
      "content        #include <stdio.h>\\n#include <stdlib.h>\\n#incl...\n",
      "Name: 2092, dtype: object\n",
      "hexdump.c\n",
      "------\n",
      "data_source                                               others\n",
      "label                                                          0\n",
      "file_name                                           sslcontext.c\n",
      "is_header                                                  False\n",
      "content        /*\\n * Copyright 2016 The Netty Project\\n *\\n ...\n",
      "Name: 162, dtype: object\n",
      "sslcontext.c\n",
      "------\n",
      "data_source                                               others\n",
      "label                                                          0\n",
      "file_name                                              lua-aes.c\n",
      "is_header                                                  False\n",
      "content        #include <lua.h>\\n#include <lauxlib.h>\\n\\n#inc...\n",
      "Name: 89, dtype: object\n",
      "lua-aes.c\n",
      "------\n",
      "data_source                                               others\n",
      "label                                                          0\n",
      "file_name                                               xxhash.c\n",
      "is_header                                                  False\n",
      "content        /*\\n*  xxHash - Fast Hash algorithm\\n*  Copyri...\n",
      "Name: 690, dtype: object\n",
      "xxhash.c\n",
      "------\n",
      "data_source                                               others\n",
      "label                                                          0\n",
      "file_name                                         judy_str_map.c\n",
      "is_header                                                  False\n",
      "content        \\n#include <stdio.h>\\n#include <stdlib.h>\\n#in...\n",
      "Name: 421, dtype: object\n",
      "judy_str_map.c\n",
      "------\n",
      "data_source                                               others\n",
      "label                                                          0\n",
      "file_name                            popcnt-sse-bit-parallel.cpp\n",
      "is_header                                                  False\n",
      "content        std::uint64_t popcnt_SSE_bit_parallel(const ui...\n",
      "Name: 8067, dtype: object\n",
      "popcnt-sse-bit-parallel.cpp\n",
      "------\n",
      "data_source                                  crypto-competitions\n",
      "label                                                          1\n",
      "file_name                                         KeccakSponge.c\n",
      "is_header                                                  False\n",
      "content        /*\\nThe Keccak sponge function, designed by Gu...\n",
      "Name: 6551, dtype: object\n",
      "KeccakSponge.c\n",
      "------\n",
      "data_source                                       crypto-library\n",
      "label                                                          1\n",
      "file_name      /Users/red/Documents/CP/crypto_code_detection/...\n",
      "is_header                                                  False\n",
      "content        /*\\n   This file is adapted from amd64-51/fe25...\n",
      "Name: 2799, dtype: object\n",
      "/Users/red/Documents/CP/crypto_code_detection/data/crypto-library/files/libsodium/crypto_scalarmult/curve25519/sandy2x/fe51_invert.c\n",
      "------\n",
      "data_source                                               others\n",
      "label                                                          0\n",
      "file_name                                     kssl_private_key.h\n",
      "is_header                                                   True\n",
      "content        // kssl_private_key.h: private key storage for...\n",
      "Name: 6437, dtype: object\n",
      "kssl_private_key.h\n",
      "------\n",
      "data_source                                               others\n",
      "label                                                          0\n",
      "file_name                                             tracepkt.c\n",
      "is_header                                                  False\n",
      "content        #include <bcc/proto.h>\\n#include <uapi/linux/i...\n",
      "Name: 8309, dtype: object\n",
      "tracepkt.c\n",
      "------\n",
      "data_source                                  crypto-competitions\n",
      "label                                                          1\n",
      "file_name                                   KeccakF-1600-opt64.c\n",
      "is_header                                                  False\n",
      "content        /*\\nThe Keccak sponge function, designed by Gu...\n",
      "Name: 2514, dtype: object\n",
      "KeccakF-1600-opt64.c\n",
      "------\n",
      "data_source                                  crypto-competitions\n",
      "label                                                          1\n",
      "file_name                            determine_decrypt_method.cc\n",
      "is_header                                                  False\n",
      "content        /*\\nCopyright (c) 2019 Stuart Steven Calder\\nA...\n",
      "Name: 6166, dtype: object\n",
      "determine_decrypt_method.cc\n",
      "------\n",
      "data_source                                               others\n",
      "label                                                          0\n",
      "file_name                                            hmac_sha2.h\n",
      "is_header                                                   True\n",
      "content        /*\\n * HMAC-SHA-224/256/384/512 implementation...\n",
      "Name: 6148, dtype: object\n",
      "hmac_sha2.h\n",
      "------\n",
      "data_source                                               others\n",
      "label                                                          0\n",
      "file_name                                                usbip.h\n",
      "is_header                                                   True\n",
      "content        /* ###########################################...\n",
      "Name: 195, dtype: object\n",
      "usbip.h\n",
      "------\n",
      "data_source                                       crypto-library\n",
      "label                                                          1\n",
      "file_name      /Users/red/Documents/CP/crypto_code_detection/...\n",
      "is_header                                                  False\n",
      "content        /*\\n * Copyright 1995-2018 The OpenSSL Project...\n",
      "Name: 5641, dtype: object\n",
      "/Users/red/Documents/CP/crypto_code_detection/data/crypto-library/files/open_ssl/evp/bio_b64.c\n",
      "------\n",
      "data_source                                               others\n",
      "label                                                          0\n",
      "file_name                                               impl.cxx\n",
      "is_header                                                  False\n",
      "content        //\\n// This file is part of The Pivot framewor...\n",
      "Name: 3072, dtype: object\n",
      "impl.cxx\n",
      "------\n",
      "data_source                                               others\n",
      "label                                                          0\n",
      "file_name                                             zstd_v02.h\n",
      "is_header                                                   True\n",
      "content        /*\\n * Copyright (c) 2016-present, Yann Collet...\n",
      "Name: 2043, dtype: object\n",
      "zstd_v02.h\n",
      "------\n",
      "data_source                                               others\n",
      "label                                                          0\n",
      "file_name                            juce_android_JNIHelpers.cpp\n",
      "is_header                                                  False\n",
      "content        /*\\n =========================================...\n",
      "Name: 5915, dtype: object\n",
      "juce_android_JNIHelpers.cpp\n",
      "------\n",
      "data_source                                       crypto-library\n",
      "label                                                          1\n",
      "file_name      /Users/red/Documents/CP/crypto_code_detection/...\n",
      "is_header                                                   True\n",
      "content        /*  Copyright (C) 2019, ARM Limited, All Right...\n",
      "Name: 3570, dtype: object\n",
      "/Users/red/Documents/CP/crypto_code_detection/data/crypto-library/files/ARMmbed/unsure/psa_crypto_service_integration.h\n",
      "------\n",
      "data_source                                  crypto-competitions\n",
      "label                                                          1\n",
      "file_name                                          Grostl512.cpp\n",
      "is_header                                                  False\n",
      "content        #include \"stdafx.h\"\\n\\n#include \"Grostl512_dat...\n",
      "Name: 6033, dtype: object\n",
      "Grostl512.cpp\n",
      "------\n",
      "data_source                                       crypto-library\n",
      "label                                                          1\n",
      "file_name      /Users/red/Documents/CP/crypto_code_detection/...\n",
      "is_header                                                  False\n",
      "content        /*\\n * Argon2 source code package\\n *\\n * Writ...\n",
      "Name: 3060, dtype: object\n",
      "/Users/red/Documents/CP/crypto_code_detection/data/crypto-library/files/libsodium/crypto_pwhash/argon2/argon2-core.c\n",
      "------\n",
      "data_source                                               others\n",
      "label                                                          0\n",
      "file_name                                       dual-key-remap.c\n",
      "is_header                                                  False\n",
      "content        #define _WIN32_WINNT 0x0500\\n\\n#include <windo...\n",
      "Name: 3972, dtype: object\n",
      "dual-key-remap.c\n",
      "------\n",
      "data_source                                  crypto-competitions\n",
      "label                                                          1\n",
      "file_name                                            CommonDef.h\n",
      "is_header                                                   True\n",
      "content        #ifndef COMMON_DATA_H\\n#define COMMON_DATA_H\\n...\n",
      "Name: 4570, dtype: object\n",
      "CommonDef.h\n",
      "------\n",
      "data_source                                  crypto-competitions\n",
      "label                                                          1\n",
      "file_name                                     drysponge_common.h\n",
      "is_header                                                   True\n",
      "content        #ifndef __DRYSPONGE_COMMON_H__\\n#define __DRYS...\n",
      "Name: 8508, dtype: object\n",
      "drysponge_common.h\n",
      "------\n",
      "data_source                                               others\n",
      "label                                                          0\n",
      "file_name                                                  rc4.h\n",
      "is_header                                                   True\n",
      "content        /* crypto/rc4/rc4.h */\\n/* Copyright (C) 1995-...\n",
      "Name: 7316, dtype: object\n",
      "rc4.h\n",
      "------\n"
     ]
    }
   ],
   "source": [
    "sources = []\n",
    "for elem in y_false:\n",
    "    sources.append(dataframe.loc[test_idx[elem],'data_source'])\n",
    "    print(dataframe.loc[test_idx[elem],:])\n",
    "    print(dataframe.loc[test_idx[elem],'file_name'])\n",
    "    print('------')"
   ]
  },
  {
   "cell_type": "code",
   "execution_count": 110,
   "metadata": {},
   "outputs": [
    {
     "name": "stdout",
     "output_type": "stream",
     "text": [
      "20\n",
      "13\n",
      "15\n",
      "0\n"
     ]
    }
   ],
   "source": [
    "print(sources.count(\"others\"))\n",
    "print(sources.count(\"crypto-competitions\"))\n",
    "print(sources.count(\"crypto-library\"))\n",
    "print(sources.count(\"code-jam\"))"
   ]
  },
  {
   "cell_type": "code",
   "execution_count": 111,
   "metadata": {},
   "outputs": [
    {
     "name": "stdout",
     "output_type": "stream",
     "text": [
      "18\n",
      "7\n",
      "11\n"
     ]
    }
   ],
   "source": [
    "header_count = 0\n",
    "header_0 = 0\n",
    "header_1 = 0\n",
    "for elem in y_false:\n",
    "    if(dataframe.loc[test_idx[elem],'is_header']):\n",
    "        header_count += 1\n",
    "        if(dataframe.loc[test_idx[elem],'label']==1):\n",
    "            header_1 += 1\n",
    "        else:\n",
    "            header_0 += 1\n",
    "print(header_count)\n",
    "print(header_0)\n",
    "print(header_1)"
   ]
  },
  {
   "cell_type": "code",
   "execution_count": null,
   "metadata": {},
   "outputs": [],
   "source": []
  }
 ],
 "metadata": {
  "kernelspec": {
   "display_name": "Python [conda env:emotion_detection]",
   "language": "python",
   "name": "conda-env-emotion_detection-py"
  },
  "language_info": {
   "codemirror_mode": {
    "name": "ipython",
    "version": 3
   },
   "file_extension": ".py",
   "mimetype": "text/x-python",
   "name": "python",
   "nbconvert_exporter": "python",
   "pygments_lexer": "ipython3",
   "version": "3.6.7"
  }
 },
 "nbformat": 4,
 "nbformat_minor": 1
}
