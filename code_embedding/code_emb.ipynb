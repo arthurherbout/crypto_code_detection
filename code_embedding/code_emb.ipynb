{
 "cells": [
  {
   "cell_type": "markdown",
   "metadata": {},
   "source": [
    "# Code embedding using Keras"
   ]
  },
  {
   "cell_type": "code",
   "execution_count": 1,
   "metadata": {},
   "outputs": [],
   "source": [
    "#TODO add keras history plot"
   ]
  },
  {
   "cell_type": "code",
   "execution_count": 2,
   "metadata": {},
   "outputs": [],
   "source": [
    "import pandas as pd\n",
    "import numpy as np\n",
    "import matplotlib.pyplot as plt\n",
    "%matplotlib inline"
   ]
  },
  {
   "cell_type": "code",
   "execution_count": 3,
   "metadata": {},
   "outputs": [],
   "source": [
    "font = {'weight': 'bold', 'size': 20}\n",
    "plt.rc('font', **font)"
   ]
  },
  {
   "cell_type": "markdown",
   "metadata": {},
   "source": [
    "## Load data"
   ]
  },
  {
   "cell_type": "code",
   "execution_count": 4,
   "metadata": {},
   "outputs": [
    {
     "name": "stdout",
     "output_type": "stream",
     "text": [
      "\u001b[34mcode-jam\u001b[m\u001b[m             \u001b[34mcrypto-competitions\u001b[m\u001b[m  \u001b[34mothers\u001b[m\u001b[m\r\n",
      "combine_json.py      \u001b[34mcrypto-library\u001b[m\u001b[m       test.json\r\n",
      "create_train_test.py full_data.json       train.json\r\n"
     ]
    }
   ],
   "source": [
    "!ls ../data/"
   ]
  },
  {
   "cell_type": "code",
   "execution_count": 5,
   "metadata": {},
   "outputs": [],
   "source": [
    "dataframe = pd.read_json('../data/train.json')"
   ]
  },
  {
   "cell_type": "code",
   "execution_count": 6,
   "metadata": {},
   "outputs": [
    {
     "data": {
      "text/html": [
       "<div>\n",
       "<style scoped>\n",
       "    .dataframe tbody tr th:only-of-type {\n",
       "        vertical-align: middle;\n",
       "    }\n",
       "\n",
       "    .dataframe tbody tr th {\n",
       "        vertical-align: top;\n",
       "    }\n",
       "\n",
       "    .dataframe thead th {\n",
       "        text-align: right;\n",
       "    }\n",
       "</style>\n",
       "<table border=\"1\" class=\"dataframe\">\n",
       "  <thead>\n",
       "    <tr style=\"text-align: right;\">\n",
       "      <th></th>\n",
       "      <th>data_source</th>\n",
       "      <th>label</th>\n",
       "      <th>file_name</th>\n",
       "      <th>is_header</th>\n",
       "      <th>content</th>\n",
       "    </tr>\n",
       "  </thead>\n",
       "  <tbody>\n",
       "    <tr>\n",
       "      <td>0</td>\n",
       "      <td>crypto-library</td>\n",
       "      <td>1</td>\n",
       "      <td>/Users/red/Documents/CP/crypto_code_detection/...</td>\n",
       "      <td>False</td>\n",
       "      <td>/* primegen.c - prime number generator\\n * Cop...</td>\n",
       "    </tr>\n",
       "    <tr>\n",
       "      <td>1</td>\n",
       "      <td>others</td>\n",
       "      <td>0</td>\n",
       "      <td>c_impl.c</td>\n",
       "      <td>False</td>\n",
       "      <td>#include &lt;stdio.h&gt;\\n\\nfloat f (char *str, int ...</td>\n",
       "    </tr>\n",
       "  </tbody>\n",
       "</table>\n",
       "</div>"
      ],
      "text/plain": [
       "      data_source  label                                          file_name  \\\n",
       "0  crypto-library      1  /Users/red/Documents/CP/crypto_code_detection/...   \n",
       "1          others      0                                           c_impl.c   \n",
       "\n",
       "   is_header                                            content  \n",
       "0      False  /* primegen.c - prime number generator\\n * Cop...  \n",
       "1      False  #include <stdio.h>\\n\\nfloat f (char *str, int ...  "
      ]
     },
     "execution_count": 6,
     "metadata": {},
     "output_type": "execute_result"
    }
   ],
   "source": [
    "dataframe.head(2)"
   ]
  },
  {
   "cell_type": "code",
   "execution_count": 7,
   "metadata": {},
   "outputs": [
    {
     "data": {
      "text/plain": [
       "'9,136'"
      ]
     },
     "execution_count": 7,
     "metadata": {},
     "output_type": "execute_result"
    }
   ],
   "source": [
    "'{:,}'.format(len(dataframe))"
   ]
  },
  {
   "cell_type": "markdown",
   "metadata": {},
   "source": [
    "Target value:"
   ]
  },
  {
   "cell_type": "code",
   "execution_count": 8,
   "metadata": {},
   "outputs": [
    {
     "data": {
      "text/plain": [
       "0    8045\n",
       "1    1091\n",
       "Name: label, dtype: int64"
      ]
     },
     "execution_count": 8,
     "metadata": {},
     "output_type": "execute_result"
    }
   ],
   "source": [
    "dataframe.label.value_counts()"
   ]
  },
  {
   "cell_type": "markdown",
   "metadata": {},
   "source": [
    "Remove comments:"
   ]
  },
  {
   "cell_type": "code",
   "execution_count": 9,
   "metadata": {},
   "outputs": [],
   "source": [
    "import re\n",
    "def remove_comments(text):\n",
    "    return re.sub(re.compile('#.*?\\n'), '', text)"
   ]
  },
  {
   "cell_type": "markdown",
   "metadata": {},
   "source": [
    "Grab docs (code submissions) and labels (correct or not):"
   ]
  },
  {
   "cell_type": "code",
   "execution_count": 10,
   "metadata": {},
   "outputs": [],
   "source": [
    "def get_docs_and_labels(df):\n",
    "    _docs = []\n",
    "    _labels = []\n",
    "    for index in df.index:\n",
    "        # Program\n",
    "        \n",
    "        code = remove_comments(\n",
    "            df.at[index, 'content']\n",
    "        )\n",
    "        _docs.append(code)\n",
    "        # Label\n",
    "        label = int(df.at[index, 'label'])\n",
    "        _labels.append(label)\n",
    "    return _docs, _labels"
   ]
  },
  {
   "cell_type": "code",
   "execution_count": 11,
   "metadata": {},
   "outputs": [],
   "source": [
    "docs, labels = get_docs_and_labels(dataframe)"
   ]
  },
  {
   "cell_type": "code",
   "execution_count": 12,
   "metadata": {},
   "outputs": [
    {
     "data": {
      "text/plain": [
       "'9,136'"
      ]
     },
     "execution_count": 12,
     "metadata": {},
     "output_type": "execute_result"
    }
   ],
   "source": [
    "'{:,}'.format(len(docs))"
   ]
  },
  {
   "cell_type": "markdown",
   "metadata": {},
   "source": [
    "## Tokenize code and generate sequences"
   ]
  },
  {
   "cell_type": "code",
   "execution_count": 91,
   "metadata": {
    "scrolled": true
   },
   "outputs": [],
   "source": [
    "import os\n",
    "#To ignore the warnings\n",
    "os.environ['TF_CPP_MIN_LOG_LEVEL'] = '3'\n",
    "\n",
    "from keras.preprocessing.text import Tokenizer"
   ]
  },
  {
   "cell_type": "code",
   "execution_count": 14,
   "metadata": {},
   "outputs": [],
   "source": [
    "#We set the size of the vocabulary\n",
    "NUM_WORDS = 10000"
   ]
  },
  {
   "cell_type": "code",
   "execution_count": 15,
   "metadata": {},
   "outputs": [],
   "source": [
    "tokenizer = Tokenizer(num_words=NUM_WORDS, \n",
    "                     filters='\\t\\n,', \n",
    "                     lower=True, \n",
    "                     split=' ', \n",
    "                     char_level=False)"
   ]
  },
  {
   "cell_type": "code",
   "execution_count": 16,
   "metadata": {},
   "outputs": [],
   "source": [
    "tokenizer.fit_on_texts(docs)"
   ]
  },
  {
   "cell_type": "code",
   "execution_count": 20,
   "metadata": {},
   "outputs": [
    {
     "data": {
      "text/plain": [
       "1018030"
      ]
     },
     "execution_count": 20,
     "metadata": {},
     "output_type": "execute_result"
    }
   ],
   "source": [
    "# Size of the vocabulary\n",
    "len(tokenizer.word_index) "
   ]
  },
  {
   "cell_type": "code",
   "execution_count": 21,
   "metadata": {},
   "outputs": [
    {
     "data": {
      "text/plain": [
       "'Number docs: 9,136'"
      ]
     },
     "execution_count": 21,
     "metadata": {},
     "output_type": "execute_result"
    }
   ],
   "source": [
    "# document_count: an integer count of the total number of documents that were used to fit the Tokenizer.\n",
    "'Number docs: {:,}'.format(tokenizer.document_count)"
   ]
  },
  {
   "cell_type": "code",
   "execution_count": 25,
   "metadata": {},
   "outputs": [
    {
     "data": {
      "text/plain": [
       "118738"
      ]
     },
     "execution_count": 25,
     "metadata": {},
     "output_type": "execute_result"
    }
   ],
   "source": [
    "# Number of occurences of if in the dataset\n",
    "tokenizer.word_counts['if'] # index"
   ]
  },
  {
   "cell_type": "code",
   "execution_count": 26,
   "metadata": {},
   "outputs": [
    {
     "data": {
      "text/plain": [
       "5700"
      ]
     },
     "execution_count": 26,
     "metadata": {},
     "output_type": "execute_result"
    }
   ],
   "source": [
    "# word_docs: a dictionary of words and how many documents each appeared in.\n",
    "tokenizer.word_docs['if']"
   ]
  },
  {
   "cell_type": "code",
   "execution_count": 27,
   "metadata": {},
   "outputs": [],
   "source": [
    "sequences = tokenizer.texts_to_sequences(docs)"
   ]
  },
  {
   "cell_type": "markdown",
   "metadata": {},
   "source": [
    "Let's look at the length distribution of the sequences to know what max size to choose"
   ]
  },
  {
   "cell_type": "code",
   "execution_count": 28,
   "metadata": {},
   "outputs": [
    {
     "data": {
      "text/plain": [
       "(676.5847197898424, 6083.597087715432, 498976)"
      ]
     },
     "execution_count": 28,
     "metadata": {},
     "output_type": "execute_result"
    }
   ],
   "source": [
    "len_seqs = [len(s) for s in sequences]\n",
    "np.mean(len_seqs), np.std(len_seqs), np.max(len_seqs)"
   ]
  },
  {
   "cell_type": "markdown",
   "metadata": {},
   "source": [
    "The mean is at 600 but the standard deviation is much bigger"
   ]
  },
  {
   "cell_type": "code",
   "execution_count": 29,
   "metadata": {},
   "outputs": [],
   "source": [
    "MAX_LENGTH = 1000"
   ]
  },
  {
   "cell_type": "markdown",
   "metadata": {},
   "source": [
    "Dictionary to transform a vector back to the program:"
   ]
  },
  {
   "cell_type": "code",
   "execution_count": 31,
   "metadata": {},
   "outputs": [],
   "source": [
    "id_to_word = { v: k for k, v in tokenizer.word_index.items() }"
   ]
  },
  {
   "cell_type": "code",
   "execution_count": 32,
   "metadata": {},
   "outputs": [
    {
     "data": {
      "text/plain": [
       "'='"
      ]
     },
     "execution_count": 32,
     "metadata": {},
     "output_type": "execute_result"
    }
   ],
   "source": [
    "id_to_word[1]"
   ]
  },
  {
   "cell_type": "code",
   "execution_count": 33,
   "metadata": {},
   "outputs": [
    {
     "data": {
      "text/plain": [
       "['/*',\n",
       " '-',\n",
       " 'prime',\n",
       " 'number',\n",
       " 'generator',\n",
       " '*',\n",
       " 'copyright',\n",
       " '(c)',\n",
       " '1998',\n",
       " '2000']"
      ]
     },
     "execution_count": 33,
     "metadata": {},
     "output_type": "execute_result"
    }
   ],
   "source": [
    "[id_to_word[index] for index in sequences[0]][0:10]"
   ]
  },
  {
   "cell_type": "markdown",
   "metadata": {
    "collapsed": true
   },
   "source": [
    "Pad documents:"
   ]
  },
  {
   "cell_type": "code",
   "execution_count": 35,
   "metadata": {},
   "outputs": [],
   "source": [
    "from keras.preprocessing.sequence import pad_sequences\n",
    "# pad documents\n",
    "padded_docs = pad_sequences(sequences, maxlen=MAX_LENGTH, padding='post')"
   ]
  },
  {
   "cell_type": "code",
   "execution_count": 36,
   "metadata": {},
   "outputs": [
    {
     "data": {
      "text/plain": [
       "array([  94,  256,   24,  592,  161, 2872,  109,  603,  364,   19],\n",
       "      dtype=int32)"
      ]
     },
     "execution_count": 36,
     "metadata": {},
     "output_type": "execute_result"
    }
   ],
   "source": [
    "padded_docs[0][0:10]"
   ]
  },
  {
   "cell_type": "markdown",
   "metadata": {},
   "source": [
    "## Defining the model"
   ]
  },
  {
   "cell_type": "code",
   "execution_count": 37,
   "metadata": {},
   "outputs": [],
   "source": [
    "from keras import backend as K\n",
    "from keras.models import Sequential\n",
    "from keras.layers import Flatten, Dense, Dropout\n",
    "from keras.layers.embeddings import Embedding\n",
    "\n",
    "#We add the epsilon to avoid any error in the function\n",
    "\n",
    "def precision_(y_true, y_pred):\n",
    "    true_positives = K.sum(K.round(K.clip(y_true * y_pred, 0, 1)))\n",
    "    predicted_positives = K.sum(K.round(K.clip(y_pred, 0, 1)))\n",
    "    precision = true_positives / (predicted_positives + K.epsilon())\n",
    "    return precision\n",
    "    \n",
    "def recall_(y_true, y_pred):\n",
    "    true_positives = K.sum(K.round(K.clip(y_true * y_pred, 0, 1)))\n",
    "    possible_positives = K.sum(K.round(K.clip(y_true, 0, 1)))\n",
    "    recall = true_positives / (possible_positives + K.epsilon())\n",
    "    return recall\n",
    "\n",
    "def f1(y_true, y_pred):\n",
    "    \n",
    "    precision = precision_(y_true, y_pred)\n",
    "    recall = recall_(y_true, y_pred)\n",
    "    return 2*((precision*recall)/(precision+recall+K.epsilon()))\n",
    "\n",
    "def f2(y_true, y_pred):\n",
    "    \n",
    "    precision = precision_(y_true, y_pred)\n",
    "    recall = recall_(y_true, y_pred)\n",
    "    return 5*((precision*recall)/(4*precision+recall+K.epsilon()))"
   ]
  },
  {
   "cell_type": "code",
   "execution_count": 92,
   "metadata": {},
   "outputs": [
    {
     "name": "stdout",
     "output_type": "stream",
     "text": [
      "Model: \"sequential_3\"\n",
      "_________________________________________________________________\n",
      "Layer (type)                 Output Shape              Param #   \n",
      "=================================================================\n",
      "embedding_3 (Embedding)      (None, 1000, 50)          500000    \n",
      "_________________________________________________________________\n",
      "flatten_3 (Flatten)          (None, 50000)             0         \n",
      "_________________________________________________________________\n",
      "dropout_3 (Dropout)          (None, 50000)             0         \n",
      "_________________________________________________________________\n",
      "dense_3 (Dense)              (None, 1)                 50001     \n",
      "=================================================================\n",
      "Total params: 550,001\n",
      "Trainable params: 550,001\n",
      "Non-trainable params: 0\n",
      "_________________________________________________________________\n",
      "None\n"
     ]
    }
   ],
   "source": [
    "# define the model\n",
    "model = Sequential()\n",
    "model.add(Embedding(NUM_WORDS, 50, input_length=MAX_LENGTH))\n",
    "model.add(Flatten())\n",
    "model.add(Dropout(rate=0.3))\n",
    "model.add(Dense(1, activation='sigmoid'))\n",
    "    \n",
    "model.compile(optimizer='adam', \n",
    "                  loss='binary_crossentropy', \n",
    "                  metrics=['acc', f1,f2,precision_,recall_])\n",
    "\n",
    "print(model.summary())"
   ]
  },
  {
   "cell_type": "code",
   "execution_count": 94,
   "metadata": {},
   "outputs": [],
   "source": [
    "def plot(history):\n",
    "  \n",
    "  # The history object contains results on the training and test\n",
    "  # sets for each epoch\n",
    "    acc = history.history['recall_']\n",
    "    val_acc = history.history['val_recall_']\n",
    "    loss = history.history['loss']\n",
    "    val_loss = history.history['val_loss']\n",
    "\n",
    "    # Get the number of epochs\n",
    "    epochs = range(len(acc))\n",
    "\n",
    "    plt.title('Training and validation recall')\n",
    "    plt.plot(epochs, acc, color='blue', label='Train')\n",
    "    plt.plot(epochs, val_acc, color='orange', label='Val')\n",
    "    plt.xlabel('Epoch')\n",
    "    plt.ylabel('Recall')\n",
    "    plt.legend()\n",
    "    plt.savefig('../code_embedding/plots/training_recall.png')\n",
    "\n",
    "    _ = plt.figure()\n",
    "    plt.title('Training and validation loss')\n",
    "    plt.plot(epochs, loss, color='blue', label='Train')\n",
    "    plt.plot(epochs, val_loss, color='orange', label='Val')\n",
    "    plt.xlabel('Epoch')\n",
    "    plt.ylabel('Loss')\n",
    "    plt.legend()\n",
    "    plt.savefig('../code_embedding/plots/training_loss.png')"
   ]
  },
  {
   "cell_type": "code",
   "execution_count": 40,
   "metadata": {},
   "outputs": [],
   "source": [
    "from sklearn.model_selection import train_test_split\n",
    "\n",
    "X_train, X_test, y_train, y_test = train_test_split(padded_docs, labels, \n",
    "                                                    test_size=0.2, random_state=0,\n",
    "                                                    stratify=labels)"
   ]
  },
  {
   "cell_type": "code",
   "execution_count": 41,
   "metadata": {
    "scrolled": false
   },
   "outputs": [
    {
     "name": "stdout",
     "output_type": "stream",
     "text": [
      "WARNING:tensorflow:From /anaconda3/envs/crypto_detection/lib/python3.7/site-packages/keras/backend/tensorflow_backend.py:422: The name tf.global_variables is deprecated. Please use tf.compat.v1.global_variables instead.\n",
      "\n",
      "Train on 7308 samples, validate on 1828 samples\n",
      "Epoch 1/5\n",
      "7308/7308 [==============================] - 34s 5ms/step - loss: 0.1724 - acc: 0.9391 - f1: 0.5685 - f2: 0.5311 - precision_: 0.6881 - recall_: 0.5132 - val_loss: 0.0879 - val_acc: 0.9710 - val_f1: 0.8761 - val_f2: 0.8477 - val_precision_: 0.9587 - val_recall_: 0.8342\n",
      "Epoch 2/5\n",
      "7308/7308 [==============================] - 33s 5ms/step - loss: 0.0416 - acc: 0.9877 - f1: 0.9245 - f2: 0.9089 - precision_: 0.9640 - recall_: 0.9011 - val_loss: 0.0647 - val_acc: 0.9743 - val_f1: 0.8832 - val_f2: 0.8498 - val_precision_: 0.9743 - val_recall_: 0.8324\n",
      "Epoch 3/5\n",
      "7308/7308 [==============================] - 30s 4ms/step - loss: 0.0207 - acc: 0.9947 - f1: 0.9586 - f2: 0.9496 - precision_: 0.9796 - recall_: 0.9448 - val_loss: 0.0640 - val_acc: 0.9765 - val_f1: 0.8981 - val_f2: 0.8725 - val_precision_: 0.9671 - val_recall_: 0.8597\n",
      "Epoch 4/5\n",
      "7308/7308 [==============================] - 31s 4ms/step - loss: 0.0136 - acc: 0.9955 - f1: 0.9719 - f2: 0.9651 - precision_: 0.9882 - recall_: 0.9615 - val_loss: 0.0652 - val_acc: 0.9776 - val_f1: 0.9034 - val_f2: 0.8784 - val_precision_: 0.9728 - val_recall_: 0.8660\n",
      "Epoch 5/5\n",
      "7308/7308 [==============================] - 29s 4ms/step - loss: 0.0098 - acc: 0.9975 - f1: 0.9624 - f2: 0.9580 - precision_: 0.9731 - recall_: 0.9555 - val_loss: 0.0687 - val_acc: 0.9787 - val_f1: 0.9077 - val_f2: 0.8829 - val_precision_: 0.9763 - val_recall_: 0.8703\n"
     ]
    }
   ],
   "source": [
    "# fit the model\n",
    "\n",
    "history = model.fit(X_train, \n",
    "          y_train,\n",
    "          epochs=5,\n",
    "          validation_data=(X_test,y_test))"
   ]
  },
  {
   "cell_type": "code",
   "execution_count": 95,
   "metadata": {},
   "outputs": [
    {
     "data": {
      "image/png": "[encoded data removed]",
      "text/plain": [
       "<Figure size 432x288 with 1 Axes>"
      ]
     },
     "metadata": {
      "needs_background": "light"
     },
     "output_type": "display_data"
    },
    {
     "data": {
      "image/png": "[encoded data removed]",
      "text/plain": [
       "<Figure size 432x288 with 1 Axes>"
      ]
     },
     "metadata": {
      "needs_background": "light"
     },
     "output_type": "display_data"
    }
   ],
   "source": [
    "plot(history)"
   ]
  },
  {
   "cell_type": "code",
   "execution_count": 49,
   "metadata": {},
   "outputs": [
    {
     "name": "stdout",
     "output_type": "stream",
     "text": [
      "1828/1828 [==============================] - 0s 134us/step\n",
      "Accuracy: 97.866523, F1: 90.773523, F2: 88.289410, precision: 97.627258, recall: 87.034070\n"
     ]
    }
   ],
   "source": [
    "# evaluate the model\n",
    "word_loss, word_accuracy, word_f1,word_f2, word_precision, word_recall = model.evaluate(X_test, y_test, verbose=1)\n",
    "print('Accuracy: %f, F1: %f, F2: %f, precision: %f, recall: %f' % (word_accuracy * 100, word_f1 * 100, word_f2 * 100, word_precision*100, word_recall*100))"
   ]
  },
  {
   "cell_type": "code",
   "execution_count": 50,
   "metadata": {},
   "outputs": [],
   "source": [
    "word_score = {\n",
    "    'accuracy': word_accuracy,\n",
    "    'F1': word_f1,\n",
    "}\n",
    "embeddings_scores = { 'Word': word_score }"
   ]
  },
  {
   "cell_type": "code",
   "execution_count": 51,
   "metadata": {},
   "outputs": [
    {
     "name": "stdout",
     "output_type": "stream",
     "text": [
      "Embedding Layer shape: (10000, 50)\n"
     ]
    }
   ],
   "source": [
    "# Embedding Layer\n",
    "embedding_layer = model.layers[0]\n",
    "embeddings = embedding_layer.get_weights()[0]\n",
    "print('Embedding Layer shape:', embeddings.shape)"
   ]
  },
  {
   "cell_type": "code",
   "execution_count": 53,
   "metadata": {},
   "outputs": [
    {
     "data": {
      "text/plain": [
       "array([-0.01019043,  0.00892705,  0.00377948,  0.01425829, -0.00871433,\n",
       "        0.00306704, -0.00918286,  0.00097931,  0.0040127 ,  0.013565  ,\n",
       "       -0.00425302, -0.0052161 , -0.00862036, -0.00722023, -0.00156455,\n",
       "       -0.01795339,  0.00354832,  0.0112764 , -0.00245505, -0.00457695,\n",
       "       -0.00099376,  0.00927168, -0.0001878 , -0.00337326,  0.00763401,\n",
       "        0.01480659, -0.00526338, -0.01619574,  0.00541916, -0.00579271,\n",
       "       -0.00725106, -0.01573423, -0.00017444, -0.00075006,  0.00521573,\n",
       "       -0.0028294 , -0.00829395, -0.00076512,  0.01852327, -0.0108064 ,\n",
       "        0.00495562, -0.00108177, -0.00389996, -0.00361246, -0.0016657 ,\n",
       "        0.01454629,  0.00444561, -0.0026439 ,  0.01163877,  0.00895038],\n",
       "      dtype=float32)"
      ]
     },
     "execution_count": 53,
     "metadata": {},
     "output_type": "execute_result"
    }
   ],
   "source": [
    "embeddings[0]"
   ]
  },
  {
   "cell_type": "code",
   "execution_count": 54,
   "metadata": {},
   "outputs": [],
   "source": [
    "np.save('../code_embedding/embedding/word_embeddings', embeddings)"
   ]
  },
  {
   "cell_type": "code",
   "execution_count": 61,
   "metadata": {},
   "outputs": [
    {
     "name": "stdout",
     "output_type": "stream",
     "text": [
      "PCA explained variance ratio: [0.37556496 0.03124981] Total: 0.406814768910408\n"
     ]
    }
   ],
   "source": [
    "from sklearn.decomposition import PCA\n",
    "\n",
    "pca = PCA(n_components=2)\n",
    "principal_components = pca.fit_transform(embeddings)\n",
    "print('PCA explained variance ratio:', pca.explained_variance_ratio_, 'Total:', sum(pca.explained_variance_ratio_))"
   ]
  },
  {
   "cell_type": "code",
   "execution_count": 62,
   "metadata": {},
   "outputs": [],
   "source": [
    "def get_top_words(tokenizer, N=50):\n",
    "    \n",
    "    return [word for word, occurrences in sorted(tokenizer.word_counts.items(), key=lambda t: t[1], reverse=True)[:N]]"
   ]
  },
  {
   "cell_type": "code",
   "execution_count": 63,
   "metadata": {},
   "outputs": [],
   "source": [
    "top_words = get_top_words(tokenizer)"
   ]
  },
  {
   "cell_type": "code",
   "execution_count": 71,
   "metadata": {},
   "outputs": [],
   "source": [
    "def plot_embeddings(low_dim_embs, id_to_word, top_words,id_plot, figsize=(8, 8)):\n",
    "\n",
    "    plt.figure(figsize=figsize, dpi=100)\n",
    "    #ax = plt.axes()\n",
    "    #ax.yaxis.set_major_locator(plt.NullLocator())\n",
    "    #ax.xaxis.set_major_locator(plt.NullLocator())\n",
    "    i = 0\n",
    "    while i < len(low_dim_embs):\n",
    "\n",
    "        if i in id_to_word:\n",
    "            \n",
    "            x, y = low_dim_embs[i, :]\n",
    "            word = id_to_word[i]\n",
    "\n",
    "            if word in top_words:\n",
    "                plt.scatter(x, y, color='b')\n",
    "                plt.annotate(word,\n",
    "                            xy=(x, y),\n",
    "                            xytext=(5, 2),\n",
    "                            textcoords='offset points',\n",
    "                            ha='right',\n",
    "                            va='bottom',\n",
    "                            fontsize=14)\n",
    "                plt.title(\"Embedding projected on PCA space\")\n",
    "        \n",
    "        i += 1\n",
    "    plt.savefig('../code_embedding/plots/pca_{}.png'.format(id_plot))"
   ]
  },
  {
   "cell_type": "code",
   "execution_count": 72,
   "metadata": {
    "scrolled": false
   },
   "outputs": [
    {
     "data": {
      "image/png": "[encoded data removed]",
      "text/plain": [
       "<Figure size 1800x1800 with 1 Axes>"
      ]
     },
     "metadata": {
      "needs_background": "light"
     },
     "output_type": "display_data"
    }
   ],
   "source": [
    "plot_embeddings(principal_components, id_to_word, top_words,id_plot=0, figsize=(18, 18))"
   ]
  },
  {
   "cell_type": "code",
   "execution_count": 75,
   "metadata": {},
   "outputs": [
    {
     "data": {
      "image/png": "[encoded data removed]",
      "text/plain": [
       "<Figure size 800x800 with 1 Axes>"
      ]
     },
     "metadata": {
      "needs_background": "light"
     },
     "output_type": "display_data"
    }
   ],
   "source": [
    "plot_embeddings(principal_components, id_to_word, get_top_words(tokenizer, 20), id_plot=1)"
   ]
  },
  {
   "cell_type": "markdown",
   "metadata": {},
   "source": [
    "Measure the distance between vectors:"
   ]
  },
  {
   "cell_type": "code",
   "execution_count": 76,
   "metadata": {},
   "outputs": [],
   "source": [
    "from scipy.spatial.distance import euclidean, cosine\n",
    "\n",
    "def get_vector_distance(embeddings, tok, word1, word2):\n",
    "    \n",
    "    return euclidean(embeddings[tok.word_index[word1]], \n",
    "                     embeddings[tok.word_index[word2]])\n",
    "    \n",
    "def get_vector_cosine_distance(embeddings, tok, word1, word2):\n",
    "    \n",
    "    return cosine(embeddings[tok.word_index[word1]], \n",
    "                  embeddings[tok.word_index[word2]])"
   ]
  },
  {
   "cell_type": "markdown",
   "metadata": {},
   "source": [
    "Cosine similarity:"
   ]
  },
  {
   "cell_type": "code",
   "execution_count": 79,
   "metadata": {},
   "outputs": [
    {
     "data": {
      "text/plain": [
       "0.6060374975204468"
      ]
     },
     "execution_count": 79,
     "metadata": {},
     "output_type": "execute_result"
    }
   ],
   "source": [
    "get_vector_cosine_distance(embeddings, tokenizer, 'x', 'y')"
   ]
  },
  {
   "cell_type": "code",
   "execution_count": 80,
   "metadata": {},
   "outputs": [
    {
     "data": {
      "text/plain": [
       "1.1599316596984863"
      ]
     },
     "execution_count": 80,
     "metadata": {},
     "output_type": "execute_result"
    }
   ],
   "source": [
    "get_vector_cosine_distance(embeddings, tokenizer, '<<', '=')"
   ]
  },
  {
   "cell_type": "code",
   "execution_count": 81,
   "metadata": {},
   "outputs": [
    {
     "data": {
      "text/plain": [
       "1.412729263305664"
      ]
     },
     "execution_count": 81,
     "metadata": {},
     "output_type": "execute_result"
    }
   ],
   "source": [
    "get_vector_cosine_distance(embeddings, tokenizer, '+', '-')"
   ]
  },
  {
   "cell_type": "code",
   "execution_count": 82,
   "metadata": {},
   "outputs": [
    {
     "data": {
      "text/plain": [
       "1.3210677802562714"
      ]
     },
     "execution_count": 82,
     "metadata": {},
     "output_type": "execute_result"
    }
   ],
   "source": [
    "get_vector_cosine_distance(embeddings, tokenizer, '(', ')')"
   ]
  },
  {
   "cell_type": "code",
   "execution_count": 83,
   "metadata": {},
   "outputs": [
    {
     "data": {
      "text/plain": [
       "1.1617834717035294"
      ]
     },
     "execution_count": 83,
     "metadata": {},
     "output_type": "execute_result"
    }
   ],
   "source": [
    "get_vector_cosine_distance(embeddings, tokenizer, '{', '}')"
   ]
  },
  {
   "cell_type": "markdown",
   "metadata": {},
   "source": [
    "Euclidean distance:"
   ]
  },
  {
   "cell_type": "code",
   "execution_count": 84,
   "metadata": {
    "scrolled": false
   },
   "outputs": [
    {
     "data": {
      "text/plain": [
       "0.3866688311100006"
      ]
     },
     "execution_count": 84,
     "metadata": {},
     "output_type": "execute_result"
    }
   ],
   "source": [
    "get_vector_distance(embeddings, tokenizer, '<<', '>>')"
   ]
  },
  {
   "cell_type": "code",
   "execution_count": 85,
   "metadata": {},
   "outputs": [
    {
     "data": {
      "text/plain": [
       "0.3599841594696045"
      ]
     },
     "execution_count": 85,
     "metadata": {},
     "output_type": "execute_result"
    }
   ],
   "source": [
    "get_vector_distance(embeddings, tokenizer, 'x', 'y')"
   ]
  },
  {
   "cell_type": "code",
   "execution_count": 86,
   "metadata": {},
   "outputs": [
    {
     "data": {
      "text/plain": [
       "0.37902575731277466"
      ]
     },
     "execution_count": 86,
     "metadata": {},
     "output_type": "execute_result"
    }
   ],
   "source": [
    "get_vector_distance(embeddings,tokenizer, 'if', 'elif')"
   ]
  },
  {
   "cell_type": "code",
   "execution_count": 87,
   "metadata": {},
   "outputs": [
    {
     "data": {
      "text/plain": [
       "0.2895454466342926"
      ]
     },
     "execution_count": 87,
     "metadata": {},
     "output_type": "execute_result"
    }
   ],
   "source": [
    "get_vector_distance(embeddings, tokenizer, 'elif', 'else:')"
   ]
  },
  {
   "cell_type": "code",
   "execution_count": 88,
   "metadata": {},
   "outputs": [
    {
     "data": {
      "text/plain": [
       "0.7345585823059082"
      ]
     },
     "execution_count": 88,
     "metadata": {},
     "output_type": "execute_result"
    }
   ],
   "source": [
    "get_vector_distance(embeddings, tokenizer, '+', '-')"
   ]
  },
  {
   "cell_type": "code",
   "execution_count": 89,
   "metadata": {
    "scrolled": true
   },
   "outputs": [
    {
     "data": {
      "text/plain": [
       "0.5146770477294922"
      ]
     },
     "execution_count": 89,
     "metadata": {},
     "output_type": "execute_result"
    }
   ],
   "source": [
    "get_vector_distance(embeddings, tokenizer, 'for', 'while')"
   ]
  },
  {
   "cell_type": "markdown",
   "metadata": {},
   "source": [
    "## More complex architecture"
   ]
  },
  {
   "cell_type": "code",
   "execution_count": 90,
   "metadata": {},
   "outputs": [
    {
     "name": "stdout",
     "output_type": "stream",
     "text": [
      "WARNING:tensorflow:From /anaconda3/envs/crypto_detection/lib/python3.7/site-packages/keras/backend/tensorflow_backend.py:4070: The name tf.nn.max_pool is deprecated. Please use tf.nn.max_pool2d instead.\n",
      "\n",
      "Model: \"sequential_2\"\n",
      "_________________________________________________________________\n",
      "Layer (type)                 Output Shape              Param #   \n",
      "=================================================================\n",
      "embedding_2 (Embedding)      (None, 1000, 50)          500000    \n",
      "_________________________________________________________________\n",
      "conv1d_1 (Conv1D)            (None, 986, 32)           24032     \n",
      "_________________________________________________________________\n",
      "batch_normalization_1 (Batch (None, 986, 32)           128       \n",
      "_________________________________________________________________\n",
      "max_pooling1d_1 (MaxPooling1 (None, 493, 32)           0         \n",
      "_________________________________________________________________\n",
      "conv1d_2 (Conv1D)            (None, 479, 32)           15392     \n",
      "_________________________________________________________________\n",
      "batch_normalization_2 (Batch (None, 479, 32)           128       \n",
      "_________________________________________________________________\n",
      "max_pooling1d_2 (MaxPooling1 (None, 239, 32)           0         \n",
      "_________________________________________________________________\n",
      "conv1d_3 (Conv1D)            (None, 230, 32)           10272     \n",
      "_________________________________________________________________\n",
      "batch_normalization_3 (Batch (None, 230, 32)           128       \n",
      "_________________________________________________________________\n",
      "max_pooling1d_3 (MaxPooling1 (None, 115, 32)           0         \n",
      "_________________________________________________________________\n",
      "conv1d_4 (Conv1D)            (None, 106, 32)           10272     \n",
      "_________________________________________________________________\n",
      "batch_normalization_4 (Batch (None, 106, 32)           128       \n",
      "_________________________________________________________________\n",
      "max_pooling1d_4 (MaxPooling1 (None, 53, 32)            0         \n",
      "_________________________________________________________________\n",
      "flatten_2 (Flatten)          (None, 1696)              0         \n",
      "_________________________________________________________________\n",
      "dropout_2 (Dropout)          (None, 1696)              0         \n",
      "_________________________________________________________________\n",
      "dense_2 (Dense)              (None, 1)                 1697      \n",
      "=================================================================\n",
      "Total params: 562,177\n",
      "Trainable params: 561,921\n",
      "Non-trainable params: 256\n",
      "_________________________________________________________________\n",
      "None\n"
     ]
    }
   ],
   "source": [
    "from keras.layers import Conv1D, BatchNormalization, Dropout, MaxPooling1D\n",
    "from sklearn.metrics import f1_score\n",
    "\n",
    "model = Sequential()\n",
    "model.add(Embedding(NUM_WORDS, 50, input_length=MAX_LENGTH))\n",
    "model.add(Conv1D(32, 15, strides=1, activation='relu'))\n",
    "model.add(BatchNormalization())\n",
    "model.add(MaxPooling1D())\n",
    "model.add(Conv1D(32,15, strides=1, activation='relu'))\n",
    "model.add(BatchNormalization())\n",
    "model.add(MaxPooling1D())\n",
    "model.add(Conv1D(32,10, strides=1, activation='relu'))\n",
    "model.add(BatchNormalization())\n",
    "model.add(MaxPooling1D())\n",
    "model.add(Conv1D(32,10, strides=1, activation='relu'))\n",
    "model.add(BatchNormalization())\n",
    "model.add(MaxPooling1D())\n",
    "model.add(Flatten())\n",
    "model.add(Dropout(rate=0.5))\n",
    "model.add(Dense(1, activation='sigmoid'))\n",
    "\n",
    "model.compile(optimizer='adam', \n",
    "                  loss='binary_crossentropy', \n",
    "                  metrics=['acc', f1,f2,precision_,recall_])\n",
    "\n",
    "print(model.summary())\n",
    "                    "
   ]
  }
 ],
 "metadata": {
  "kernelspec": {
   "display_name": "Python [conda env:crypto_detection] *",
   "language": "python",
   "name": "conda-env-crypto_detection-py"
  },
  "language_info": {
   "codemirror_mode": {
    "name": "ipython",
    "version": 3
   },
   "file_extension": ".py",
   "mimetype": "text/x-python",
   "name": "python",
   "nbconvert_exporter": "python",
   "pygments_lexer": "ipython3",
   "version": "3.7.4"
  }
 },
 "nbformat": 4,
 "nbformat_minor": 1
}
