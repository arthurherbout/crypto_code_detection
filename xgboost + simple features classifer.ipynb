{
 "cells": [
  {
   "cell_type": "code",
   "execution_count": 25,
   "metadata": {},
   "outputs": [],
   "source": [
    "import re\n",
    "import numpy as np\n",
    "import math\n",
    "import os\n",
    "import random\n",
    "import sys\n",
    "import pandas as pd\n",
    "from sklearn.model_selection import train_test_split\n",
    "from sklearn.metrics import confusion_matrix\n",
    "from numpy import loadtxt\n",
    "from xgboost import XGBClassifier\n",
    "from sklearn.metrics import accuracy_score\n",
    "from sklearn.metrics import recall_score\n",
    "from sklearn.model_selection import GridSearchCV"
   ]
  },
  {
   "cell_type": "code",
   "execution_count": 13,
   "metadata": {},
   "outputs": [],
   "source": [
    "BASE_DIR = \"C:/Users/hadri/Documents/GitHub/crypto_code_detection/data/\"\n",
    "\n",
    "\n",
    "crypto_library_df = pd.read_json(BASE_DIR + \"crypto-library/crypto_library_data.json\")\n",
    "crypto_competitions_df = pd.read_json(BASE_DIR + \"crypto_competitions/crypto_competitions_data.json\")\n",
    "code_jam_df = pd.read_json(BASE_DIR + \"code-jam/code-jam_data.json\")\n",
    "others_df = pd.read_json(BASE_DIR + \"others/others_data.json\")\n",
    "\n",
    "full_df = pd.concat([crypto_library_df, crypto_competitions_df, \n",
    "                     code_jam_df, others_df], \n",
    "                    ignore_index=True)\n",
    "\n",
    "def transform_df(df): \n",
    "    \"\"\"This transform the df formed with the json into the format we want, \n",
    "    which is file_name and content as two separate columns instead of being\n",
    "    unites under data\"\"\"\n",
    "    df['file_name'] = [df.data[i]['file_name'] for i in range(df.shape[0])]\n",
    "    df['is_header'] = [df.file_name[i].split('.')[-1][0] == 'h' for i in range(df.shape[0])]\n",
    "    df['content'] = [df.data[i]['content'] for i in range(df.shape[0])]\n",
    "    df.drop('data', axis=1, inplace=True)\n",
    "    return(df)\n",
    "    \n",
    "full_df = transform_df(full_df)"
   ]
  },
  {
   "cell_type": "code",
   "execution_count": 14,
   "metadata": {},
   "outputs": [],
   "source": [
    "X=full_df[['data_source', 'file_name', 'is_header', 'content']]\n",
    "Y=full_df[['label']]\n",
    "xTrain, xTest, yTrain, yTest = train_test_split(X, Y, test_size = 0.2, random_state = 0)"
   ]
  },
  {
   "cell_type": "code",
   "execution_count": 15,
   "metadata": {},
   "outputs": [],
   "source": [
    "file = open('feature_tuple_list.txt','r') \n",
    "F=file.read()\n",
    "feature_tuple_list=list(map(lambda x : tuple(x.split(';')), F.split('\\n')))[:-1] #remove trailing line\n",
    "feature_names=list(map(lambda x : x[0].strip() , feature_tuple_list))"
   ]
  },
  {
   "cell_type": "code",
   "execution_count": 16,
   "metadata": {},
   "outputs": [],
   "source": [
    "def build_vector(row,feature_tuple_list=None):\n",
    "    if feature_tuple_list is None :\n",
    "        file = open('feature_tuple_list.txt','r') \n",
    "        F=file.read()\n",
    "        feature_tuple_list=list(map(lambda x : tuple(x.split(';')), F.split('\\n')))[:-1] #remove trailing line\n",
    "    list_of_lines=row[3].split('\\n')\n",
    "    feature_counts=[0]*len(feature_tuple_list)\n",
    "    feature_list=[f[1] for f in feature_tuple_list]\n",
    "    for line in list_of_lines : \n",
    "        for i,f in enumerate(feature_list) :\n",
    "            #need to strip to remove spaces + lowercase to match on our lowercase expression\n",
    "            if re.search(f.strip(), line.lower()) : feature_counts[i]+=len(re.findall(f.strip(), line.lower()))\n",
    "                \n",
    "    return feature_counts"
   ]
  },
  {
   "cell_type": "code",
   "execution_count": 17,
   "metadata": {},
   "outputs": [],
   "source": [
    "xTrain_vec=xTrain.apply(lambda row: build_vector(row), axis=1)\n",
    "xTrain_vec_df=xTrain_vec.to_frame()\n",
    "xTrain_vec_df.columns=['vec']\n",
    "xTrain_vec_df=xTrain_vec_df.vec.apply(pd.Series)\n",
    "xTrain_vec_df.columns=feature_names\n",
    "#for xgboost :\n",
    "regex = re.compile(r\"\\[|\\]|<\", re.IGNORECASE)\n",
    "xTrain_vec_df.columns = [regex.sub(\"_\", col) if any(x in str(col) for x in set(('[', ']', '<'))) else col for col in xTrain_vec_df.columns.values]"
   ]
  },
  {
   "cell_type": "code",
   "execution_count": 39,
   "metadata": {},
   "outputs": [
    {
     "name": "stdout",
     "output_type": "stream",
     "text": [
      "Fitting 5 folds for each of 228 candidates, totalling 1140 fits\n"
     ]
    },
    {
     "name": "stderr",
     "output_type": "stream",
     "text": [
      "[Parallel(n_jobs=1)]: Using backend SequentialBackend with 1 concurrent workers.\n",
      "C:\\Users\\hadri\\AppData\\Local\\Continuum\\anaconda3\\envs\\quant_374\\lib\\site-packages\\sklearn\\preprocessing\\label.py:219: DataConversionWarning: A column-vector y was passed when a 1d array was expected. Please change the shape of y to (n_samples, ), for example using ravel().\n",
      "  y = column_or_1d(y, warn=True)\n",
      "C:\\Users\\hadri\\AppData\\Local\\Continuum\\anaconda3\\envs\\quant_374\\lib\\site-packages\\sklearn\\preprocessing\\label.py:252: DataConversionWarning: A column-vector y was passed when a 1d array was expected. Please change the shape of y to (n_samples, ), for example using ravel().\n",
      "  y = column_or_1d(y, warn=True)\n",
      "[Parallel(n_jobs=1)]: Done 1140 out of 1140 | elapsed: 61.0min finished\n"
     ]
    },
    {
     "data": {
      "text/plain": [
       "GridSearchCV(cv=5, error_score='raise-deprecating',\n",
       "             estimator=XGBClassifier(base_score=0.5, booster='gbtree',\n",
       "                                     colsample_bylevel=1, colsample_bynode=1,\n",
       "                                     colsample_bytree=0.8, gamma=0,\n",
       "                                     learning_rate=0.2, max_delta_step=0,\n",
       "                                     max_depth=5, min_child_weight=1,\n",
       "                                     missing=None, n_estimators=100, n_jobs=1,\n",
       "                                     nthread=None, objective='binary:logistic',\n",
       "                                     random_state=0, reg_alpha=0, reg_lambda=1,\n",
       "                                     scale_pos_weight=1, seed=27, silent=None,\n",
       "                                     subsample=0.8, verbosity=1),\n",
       "             iid=False, n_jobs=None,\n",
       "             param_grid={'max_depth': range(3, 10, 2),\n",
       "                         'min_child_weight': range(1, 6, 2),\n",
       "                         'n_estimators': range(10, 200, 10)},\n",
       "             pre_dispatch='2*n_jobs', refit=True, return_train_score=False,\n",
       "             scoring='recall', verbose=1)"
      ]
     },
     "execution_count": 39,
     "metadata": {},
     "output_type": "execute_result"
    }
   ],
   "source": [
    "param_test1 = {\n",
    " 'max_depth':range(3,10,2),\n",
    " 'min_child_weight':range(1,6,2),\n",
    " 'n_estimators': range(10,200,10)\n",
    " \n",
    "}\n",
    "gsearch1 = GridSearchCV(estimator = XGBClassifier( max_depth=5, learning_rate=0.2,\n",
    " min_child_weight=1, gamma=0, subsample=0.8, colsample_bytree=0.8,\n",
    " objective= 'binary:logistic', scale_pos_weight=1, seed=27), \n",
    " param_grid = param_test1, scoring='recall',iid=False, cv=5, verbose=1)\n",
    "gsearch1.fit(xTrain_vec_df, yTrain)"
   ]
  },
  {
   "cell_type": "code",
   "execution_count": 18,
   "metadata": {},
   "outputs": [
    {
     "name": "stderr",
     "output_type": "stream",
     "text": [
      "C:\\Users\\hadri\\AppData\\Local\\Continuum\\anaconda3\\envs\\quant_374\\lib\\site-packages\\sklearn\\preprocessing\\label.py:219: DataConversionWarning: A column-vector y was passed when a 1d array was expected. Please change the shape of y to (n_samples, ), for example using ravel().\n",
      "  y = column_or_1d(y, warn=True)\n",
      "C:\\Users\\hadri\\AppData\\Local\\Continuum\\anaconda3\\envs\\quant_374\\lib\\site-packages\\sklearn\\preprocessing\\label.py:252: DataConversionWarning: A column-vector y was passed when a 1d array was expected. Please change the shape of y to (n_samples, ), for example using ravel().\n",
      "  y = column_or_1d(y, warn=True)\n"
     ]
    },
    {
     "data": {
      "text/plain": [
       "XGBClassifier(base_score=0.5, booster='gbtree', colsample_bylevel=1,\n",
       "              colsample_bynode=1, colsample_bytree=1, gamma=0,\n",
       "              learning_rate=0.1, max_delta_step=0, max_depth=3,\n",
       "              min_child_weight=1, missing=None, n_estimators=100, n_jobs=1,\n",
       "              nthread=None, objective='binary:logistic', random_state=0,\n",
       "              reg_alpha=0, reg_lambda=1, scale_pos_weight=1, seed=None,\n",
       "              silent=None, subsample=1, verbosity=1)"
      ]
     },
     "execution_count": 18,
     "metadata": {},
     "output_type": "execute_result"
    }
   ],
   "source": [
    "model = XGBClassifier()\n",
    "model.fit(xTrain_vec_df, yTrain)"
   ]
  },
  {
   "cell_type": "code",
   "execution_count": 19,
   "metadata": {},
   "outputs": [],
   "source": [
    "xTest_vec=xTest.apply(lambda row: build_vector(row), axis=1)\n",
    "xTest_vec_df=xTest_vec.to_frame()\n",
    "xTest_vec_df.columns=['vec']\n",
    "xTest_vec_df=xTest_vec_df.vec.apply(pd.Series)\n",
    "xTest_vec_df.columns=feature_names\n",
    "#for xgboost :\n",
    "regex = re.compile(r\"\\[|\\]|<\", re.IGNORECASE)\n",
    "xTest_vec_df.columns = [regex.sub(\"_\", col) if any(x in str(col) for x in set(('[', ']', '<'))) else col for col in xTest_vec_df.columns.values]"
   ]
  },
  {
   "cell_type": "code",
   "execution_count": 20,
   "metadata": {},
   "outputs": [],
   "source": [
    "yPred = model.predict(xTest_vec_df)"
   ]
  },
  {
   "cell_type": "code",
   "execution_count": 21,
   "metadata": {},
   "outputs": [],
   "source": [
    "M=confusion_matrix(yTest,yPred.reshape(np.array(yTest).shape))"
   ]
  },
  {
   "cell_type": "code",
   "execution_count": 27,
   "metadata": {},
   "outputs": [
    {
     "name": "stdout",
     "output_type": "stream",
     "text": [
      "confusion matrix : \n",
      "               \n",
      "      predicted value\n",
      "actual [1896, 18]\n",
      "value  [61, 175]\n",
      "              \n",
      "Recall for positives = TP/(TP+FN) = 74.15% = Conditional probability that we output 1 when the file is indeed crypto\n",
      "Recall for negatives = TN/(TN+FP) = 99.06%\n",
      "Precision for both classes = (TP+TN)/(all) = 96.33%\n"
     ]
    }
   ],
   "source": [
    "print('confusion matrix : ')\n",
    "print('               ')\n",
    "print('      predicted value')\n",
    "print('actual', list(M[0]))\n",
    "print('value ', list(M[1]))\n",
    "print('              ')\n",
    "print('Recall for positives = TP/(TP+FN) = ' + str(round(100*M[1][1]/(M[1][1]+M[1][0]),2)) + '%' + ' = ' + 'Conditional probability that we output 1 when the file is indeed crypto')\n",
    "print('Recall for negatives = TN/(TN+FP) = '+ str(round(100*M[0][0]/(M[0][0]+M[0][1]),2)) + '%')\n",
    "print('Precision for both classes = (TP+TN)/(all) = ' + str(round(100*(M[1][1]+M[0][0])/(sum([M[i][j] for i in [0,1] for j in [0,1]])),2)) + '%')"
   ]
  },
  {
   "cell_type": "code",
   "execution_count": 63,
   "metadata": {},
   "outputs": [],
   "source": [
    "xTest_crypto=xTest[(xTest.truelabel==1)]"
   ]
  },
  {
   "cell_type": "code",
   "execution_count": 64,
   "metadata": {},
   "outputs": [],
   "source": [
    "xTest_crypto_FN=xTest_crypto[xTest_crypto.predlabel==0]"
   ]
  },
  {
   "cell_type": "code",
   "execution_count": 66,
   "metadata": {},
   "outputs": [],
   "source": [
    "xTest_crypto_FN.to_csv('FN_model_1.csv')"
   ]
  },
  {
   "cell_type": "code",
   "execution_count": 67,
   "metadata": {},
   "outputs": [
    {
     "data": {
      "text/html": [
       "<div>\n",
       "<style scoped>\n",
       "    .dataframe tbody tr th:only-of-type {\n",
       "        vertical-align: middle;\n",
       "    }\n",
       "\n",
       "    .dataframe tbody tr th {\n",
       "        vertical-align: top;\n",
       "    }\n",
       "\n",
       "    .dataframe thead th {\n",
       "        text-align: right;\n",
       "    }\n",
       "</style>\n",
       "<table border=\"1\" class=\"dataframe\">\n",
       "  <thead>\n",
       "    <tr style=\"text-align: right;\">\n",
       "      <th></th>\n",
       "      <th>data_source</th>\n",
       "      <th>file_name</th>\n",
       "      <th>is_header</th>\n",
       "      <th>content</th>\n",
       "      <th>truelabel</th>\n",
       "      <th>predlabel</th>\n",
       "    </tr>\n",
       "  </thead>\n",
       "  <tbody>\n",
       "    <tr>\n",
       "      <td>124</td>\n",
       "      <td>crypto_library</td>\n",
       "      <td>files/nettle/memops.h</td>\n",
       "      <td>True</td>\n",
       "      <td>/* memops.h\\n\\n   Copyright (C) 2016 Niels Möl...</td>\n",
       "      <td>1</td>\n",
       "      <td>0</td>\n",
       "    </tr>\n",
       "    <tr>\n",
       "      <td>1237</td>\n",
       "      <td>crypto_competitions</td>\n",
       "      <td>catena.c</td>\n",
       "      <td>False</td>\n",
       "      <td>#include &lt;string.h&gt;\\n#include &lt;stdio.h&gt;\\n#incl...</td>\n",
       "      <td>1</td>\n",
       "      <td>0</td>\n",
       "    </tr>\n",
       "    <tr>\n",
       "      <td>154</td>\n",
       "      <td>crypto_library</td>\n",
       "      <td>files/nettle/rsa-pss-sha512-verify.c</td>\n",
       "      <td>False</td>\n",
       "      <td>/* rsa-pss-sha512-verify.c\\n\\n   Verifying sig...</td>\n",
       "      <td>1</td>\n",
       "      <td>0</td>\n",
       "    </tr>\n",
       "    <tr>\n",
       "      <td>272</td>\n",
       "      <td>crypto_library</td>\n",
       "      <td>files/nettle/chacha-set-key.c</td>\n",
       "      <td>False</td>\n",
       "      <td>/* chacha-set-key.c\\n\\n   Copyright (C) 2014 N...</td>\n",
       "      <td>1</td>\n",
       "      <td>0</td>\n",
       "    </tr>\n",
       "    <tr>\n",
       "      <td>247</td>\n",
       "      <td>crypto_library</td>\n",
       "      <td>files/nettle/ecc-point.c</td>\n",
       "      <td>False</td>\n",
       "      <td>/* ecc-point.c\\n\\n   Copyright (C) 2013, 2014 ...</td>\n",
       "      <td>1</td>\n",
       "      <td>0</td>\n",
       "    </tr>\n",
       "    <tr>\n",
       "      <td>...</td>\n",
       "      <td>...</td>\n",
       "      <td>...</td>\n",
       "      <td>...</td>\n",
       "      <td>...</td>\n",
       "      <td>...</td>\n",
       "      <td>...</td>\n",
       "    </tr>\n",
       "    <tr>\n",
       "      <td>196</td>\n",
       "      <td>crypto_library</td>\n",
       "      <td>files/nettle/ripemd160-internal.h</td>\n",
       "      <td>True</td>\n",
       "      <td>/* ripemd160-internal.h\\n\\n   RIPEMD-160 hash ...</td>\n",
       "      <td>1</td>\n",
       "      <td>0</td>\n",
       "    </tr>\n",
       "    <tr>\n",
       "      <td>1163</td>\n",
       "      <td>crypto_competitions</td>\n",
       "      <td>blake2-kat.h</td>\n",
       "      <td>True</td>\n",
       "      <td>/*\\n   BLAKE2 reference source code package - ...</td>\n",
       "      <td>1</td>\n",
       "      <td>0</td>\n",
       "    </tr>\n",
       "    <tr>\n",
       "      <td>639</td>\n",
       "      <td>crypto_library</td>\n",
       "      <td>files/libgcrypt/mac-hmac.c</td>\n",
       "      <td>False</td>\n",
       "      <td>/* mac-hmac.c  -  HMAC glue for MAC API\\n * Co...</td>\n",
       "      <td>1</td>\n",
       "      <td>0</td>\n",
       "    </tr>\n",
       "    <tr>\n",
       "      <td>146</td>\n",
       "      <td>crypto_library</td>\n",
       "      <td>files/nettle/mini-gmp.h</td>\n",
       "      <td>True</td>\n",
       "      <td>/* mini-gmp, a minimalistic implementation of ...</td>\n",
       "      <td>1</td>\n",
       "      <td>0</td>\n",
       "    </tr>\n",
       "    <tr>\n",
       "      <td>771</td>\n",
       "      <td>crypto_library</td>\n",
       "      <td>files/libsodium/crypto_generichash/blake2b/ref...</td>\n",
       "      <td>True</td>\n",
       "      <td>/*\\n   BLAKE2 reference source code package - ...</td>\n",
       "      <td>1</td>\n",
       "      <td>0</td>\n",
       "    </tr>\n",
       "  </tbody>\n",
       "</table>\n",
       "<p>78 rows × 6 columns</p>\n",
       "</div>"
      ],
      "text/plain": [
       "              data_source                                          file_name  \\\n",
       "124        crypto_library                              files/nettle/memops.h   \n",
       "1237  crypto_competitions                                           catena.c   \n",
       "154        crypto_library               files/nettle/rsa-pss-sha512-verify.c   \n",
       "272        crypto_library                      files/nettle/chacha-set-key.c   \n",
       "247        crypto_library                           files/nettle/ecc-point.c   \n",
       "...                   ...                                                ...   \n",
       "196        crypto_library                  files/nettle/ripemd160-internal.h   \n",
       "1163  crypto_competitions                                       blake2-kat.h   \n",
       "639        crypto_library                         files/libgcrypt/mac-hmac.c   \n",
       "146        crypto_library                            files/nettle/mini-gmp.h   \n",
       "771        crypto_library  files/libsodium/crypto_generichash/blake2b/ref...   \n",
       "\n",
       "      is_header                                            content  truelabel  \\\n",
       "124        True  /* memops.h\\n\\n   Copyright (C) 2016 Niels Möl...          1   \n",
       "1237      False  #include <string.h>\\n#include <stdio.h>\\n#incl...          1   \n",
       "154       False  /* rsa-pss-sha512-verify.c\\n\\n   Verifying sig...          1   \n",
       "272       False  /* chacha-set-key.c\\n\\n   Copyright (C) 2014 N...          1   \n",
       "247       False  /* ecc-point.c\\n\\n   Copyright (C) 2013, 2014 ...          1   \n",
       "...         ...                                                ...        ...   \n",
       "196        True  /* ripemd160-internal.h\\n\\n   RIPEMD-160 hash ...          1   \n",
       "1163       True  /*\\n   BLAKE2 reference source code package - ...          1   \n",
       "639       False  /* mac-hmac.c  -  HMAC glue for MAC API\\n * Co...          1   \n",
       "146        True  /* mini-gmp, a minimalistic implementation of ...          1   \n",
       "771        True  /*\\n   BLAKE2 reference source code package - ...          1   \n",
       "\n",
       "      predlabel  \n",
       "124           0  \n",
       "1237          0  \n",
       "154           0  \n",
       "272           0  \n",
       "247           0  \n",
       "...         ...  \n",
       "196           0  \n",
       "1163          0  \n",
       "639           0  \n",
       "146           0  \n",
       "771           0  \n",
       "\n",
       "[78 rows x 6 columns]"
      ]
     },
     "execution_count": 67,
     "metadata": {},
     "output_type": "execute_result"
    }
   ],
   "source": [
    "xTest_crypto_FN"
   ]
  }
 ],
 "metadata": {
  "kernelspec": {
   "display_name": "quant_374",
   "language": "python",
   "name": "quant_374"
  },
  "language_info": {
   "codemirror_mode": {
    "name": "ipython",
    "version": 3
   },
   "file_extension": ".py",
   "mimetype": "text/x-python",
   "name": "python",
   "nbconvert_exporter": "python",
   "pygments_lexer": "ipython3",
   "version": "3.7.4"
  }
 },
 "nbformat": 4,
 "nbformat_minor": 2
}
