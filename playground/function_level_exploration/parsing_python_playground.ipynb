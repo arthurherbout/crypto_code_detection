{
 "cells": [
  {
   "cell_type": "markdown",
   "metadata": {},
   "source": [
    "# Generating the AST from the file"
   ]
  },
  {
   "cell_type": "code",
   "execution_count": 4,
   "metadata": {},
   "outputs": [
    {
     "data": {
      "text/plain": [
       "[<_ast.FunctionDef at 0x10da825f8>,\n",
       " <_ast.FunctionDef at 0x10da85048>,\n",
       " <_ast.FunctionDef at 0x10da85898>,\n",
       " <_ast.FunctionDef at 0x10da85a90>,\n",
       " <_ast.FunctionDef at 0x10da8acc0>,\n",
       " <_ast.FunctionDef at 0x10da8ccf8>,\n",
       " <_ast.FunctionDef at 0x10da8fda0>,\n",
       " <_ast.FunctionDef at 0x10da92470>,\n",
       " <_ast.FunctionDef at 0x10da92a20>,\n",
       " <_ast.FunctionDef at 0x10da92fd0>,\n",
       " <_ast.FunctionDef at 0x10da94710>,\n",
       " <_ast.FunctionDef at 0x10da94e10>,\n",
       " <_ast.FunctionDef at 0x10db5b668>,\n",
       " <_ast.FunctionDef at 0x10db60e80>,\n",
       " <_ast.FunctionDef at 0x10db644e0>,\n",
       " <_ast.FunctionDef at 0x10db64898>]"
      ]
     },
     "execution_count": 4,
     "metadata": {},
     "output_type": "execute_result"
    }
   ],
   "source": [
    "import ast\n",
    "from git_root import git_root\n",
    "import os\n",
    "\n",
    "r = open(os.path.join(git_root(), \"playground\",\"function_level_exploration\",\"sample\",\"AES_Python_master_aes.py\"),'r')\n",
    "t = ast.parse(r.read())\n",
    "\n",
    "#To go over each function defined in the file\n",
    "[x for x in ast.walk(t) if isinstance(x, ast.FunctionDef)]"
   ]
  },
  {
   "cell_type": "code",
   "execution_count": null,
   "metadata": {},
   "outputs": [],
   "source": []
  }
 ],
 "metadata": {
  "kernelspec": {
   "display_name": "Python [conda env:crypto_detection]",
   "language": "python",
   "name": "conda-env-crypto_detection-py"
  },
  "language_info": {
   "codemirror_mode": {
    "name": "ipython",
    "version": 3
   },
   "file_extension": ".py",
   "mimetype": "text/x-python",
   "name": "python",
   "nbconvert_exporter": "python",
   "pygments_lexer": "ipython3",
   "version": "3.5.6"
  }
 },
 "nbformat": 4,
 "nbformat_minor": 2
}
