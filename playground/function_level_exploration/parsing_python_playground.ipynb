{
 "cells": [
  {
   "cell_type": "markdown",
   "metadata": {},
   "source": [
    "# Generating the AST from the file"
   ]
  },
  {
   "cell_type": "code",
   "execution_count": 23,
   "metadata": {},
   "outputs": [
    {
     "data": {
      "text/plain": [
       "[<_ast.FunctionDef at 0x10b12eeb8>,\n",
       " <_ast.FunctionDef at 0x10b130908>,\n",
       " <_ast.FunctionDef at 0x10b133198>,\n",
       " <_ast.FunctionDef at 0x10b133390>,\n",
       " <_ast.FunctionDef at 0x10b1385c0>,\n",
       " <_ast.FunctionDef at 0x10b13a5f8>,\n",
       " <_ast.FunctionDef at 0x10b13d6a0>,\n",
       " <_ast.FunctionDef at 0x10b13dd30>,\n",
       " <_ast.FunctionDef at 0x10b13f320>,\n",
       " <_ast.FunctionDef at 0x10b13f8d0>,\n",
       " <_ast.FunctionDef at 0x10b13ffd0>,\n",
       " <_ast.FunctionDef at 0x10b142710>,\n",
       " <_ast.FunctionDef at 0x10b147f28>,\n",
       " <_ast.FunctionDef at 0x10b14d780>,\n",
       " <_ast.FunctionDef at 0x10b150da0>,\n",
       " <_ast.FunctionDef at 0x10b152198>]"
      ]
     },
     "execution_count": 23,
     "metadata": {},
     "output_type": "execute_result"
    }
   ],
   "source": [
    "import ast \n",
    "\n",
    "r = open(\"sample/AES_Python_master_aes.py\",'r')\n",
    "t = ast.parse(r.read())\n",
    "\n",
    "#To go over each function defined in the file\n",
    "[x for x in ast.walk(t) if isinstance(x, ast.FunctionDef)]"
   ]
  },
  {
   "cell_type": "code",
   "execution_count": null,
   "metadata": {},
   "outputs": [],
   "source": []
  }
 ],
 "metadata": {
  "kernelspec": {
   "display_name": "Python [conda env:crypto_detection]",
   "language": "python",
   "name": "conda-env-crypto_detection-py"
  },
  "language_info": {
   "codemirror_mode": {
    "name": "ipython",
    "version": 3
   },
   "file_extension": ".py",
   "mimetype": "text/x-python",
   "name": "python",
   "nbconvert_exporter": "python",
   "pygments_lexer": "ipython3",
   "version": "3.5.6"
  }
 },
 "nbformat": 4,
 "nbformat_minor": 2
}
