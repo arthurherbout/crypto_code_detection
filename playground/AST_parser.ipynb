{
 "cells": [
  {
   "cell_type": "code",
   "execution_count": 1,
   "metadata": {},
   "outputs": [],
   "source": [
    "import re\n",
    "import numpy as np\n",
    "import math\n",
    "import os\n",
    "import random\n",
    "import sys\n",
    "import pandas as pd\n",
    "from numpy import loadtxt\n",
    "from pycparser import c_parser, c_ast, parse_file"
   ]
  },
  {
   "cell_type": "code",
   "execution_count": 2,
   "metadata": {},
   "outputs": [
    {
     "data": {
      "text/plain": [
       "['/home/hc3040/crypto_code_detection/playground',\n",
       " '/home/hc3040/anaconda3/lib/python37.zip',\n",
       " '/home/hc3040/anaconda3/lib/python3.7',\n",
       " '/home/hc3040/anaconda3/lib/python3.7/lib-dynload',\n",
       " '',\n",
       " '/home/hc3040/.local/lib/python3.7/site-packages',\n",
       " '/home/hc3040/anaconda3/lib/python3.7/site-packages',\n",
       " '/home/hc3040/.local/lib/python3.7/site-packages/IPython/extensions',\n",
       " '/home/hc3040/.ipython']"
      ]
     },
     "execution_count": 2,
     "metadata": {},
     "output_type": "execute_result"
    }
   ],
   "source": [
    "sys.path"
   ]
  },
  {
   "cell_type": "code",
   "execution_count": 3,
   "metadata": {},
   "outputs": [],
   "source": [
    "test=pd.read_json('/home/hc3040/crypto_code_detection/data/full_data.json')"
   ]
  },
  {
   "cell_type": "code",
   "execution_count": 4,
   "metadata": {},
   "outputs": [
    {
     "data": {
      "text/html": [
       "<div>\n",
       "<style scoped>\n",
       "    .dataframe tbody tr th:only-of-type {\n",
       "        vertical-align: middle;\n",
       "    }\n",
       "\n",
       "    .dataframe tbody tr th {\n",
       "        vertical-align: top;\n",
       "    }\n",
       "\n",
       "    .dataframe thead th {\n",
       "        text-align: right;\n",
       "    }\n",
       "</style>\n",
       "<table border=\"1\" class=\"dataframe\">\n",
       "  <thead>\n",
       "    <tr style=\"text-align: right;\">\n",
       "      <th></th>\n",
       "      <th>data_source</th>\n",
       "      <th>label</th>\n",
       "      <th>file_name</th>\n",
       "      <th>is_header</th>\n",
       "      <th>content</th>\n",
       "    </tr>\n",
       "  </thead>\n",
       "  <tbody>\n",
       "    <tr>\n",
       "      <td>0</td>\n",
       "      <td>crypto-library</td>\n",
       "      <td>1</td>\n",
       "      <td>/Users/red/Documents/CP/crypto_code_detection/...</td>\n",
       "      <td>False</td>\n",
       "      <td>/* eddsa-hash.c\\n\\n   Copyright (C) 2014 Niels...</td>\n",
       "    </tr>\n",
       "    <tr>\n",
       "      <td>1</td>\n",
       "      <td>crypto-library</td>\n",
       "      <td>1</td>\n",
       "      <td>/Users/red/Documents/CP/crypto_code_detection/...</td>\n",
       "      <td>False</td>\n",
       "      <td>/* twofishdata.c\\n\\n   Generates the permutati...</td>\n",
       "    </tr>\n",
       "    <tr>\n",
       "      <td>2</td>\n",
       "      <td>crypto-library</td>\n",
       "      <td>1</td>\n",
       "      <td>/Users/red/Documents/CP/crypto_code_detection/...</td>\n",
       "      <td>False</td>\n",
       "      <td>/* umac32.c\\n\\n   Copyright (C) 2013 Niels Möl...</td>\n",
       "    </tr>\n",
       "    <tr>\n",
       "      <td>3</td>\n",
       "      <td>crypto-library</td>\n",
       "      <td>1</td>\n",
       "      <td>/Users/red/Documents/CP/crypto_code_detection/...</td>\n",
       "      <td>True</td>\n",
       "      <td>/* cfb.h\\n\\n   Cipher feedback mode.\\n\\n   Cop...</td>\n",
       "    </tr>\n",
       "    <tr>\n",
       "      <td>4</td>\n",
       "      <td>crypto-library</td>\n",
       "      <td>1</td>\n",
       "      <td>/Users/red/Documents/CP/crypto_code_detection/...</td>\n",
       "      <td>True</td>\n",
       "      <td>/* eddsa.h\\n\\n   Copyright (C) 2014 Niels Möll...</td>\n",
       "    </tr>\n",
       "    <tr>\n",
       "      <td>...</td>\n",
       "      <td>...</td>\n",
       "      <td>...</td>\n",
       "      <td>...</td>\n",
       "      <td>...</td>\n",
       "      <td>...</td>\n",
       "    </tr>\n",
       "    <tr>\n",
       "      <td>10744</td>\n",
       "      <td>others</td>\n",
       "      <td>0</td>\n",
       "      <td>__math.h</td>\n",
       "      <td>True</td>\n",
       "      <td>/* Inline math functions for i387.\\n   Copyrig...</td>\n",
       "    </tr>\n",
       "    <tr>\n",
       "      <td>10745</td>\n",
       "      <td>others</td>\n",
       "      <td>0</td>\n",
       "      <td>__ocl_iterator.h</td>\n",
       "      <td>True</td>\n",
       "      <td>//\\n// Copyright (c) 2015-2016 The Khronos Gro...</td>\n",
       "    </tr>\n",
       "    <tr>\n",
       "      <td>10746</td>\n",
       "      <td>others</td>\n",
       "      <td>0</td>\n",
       "      <td>暴力搜索_二维数组中查找.hpp</td>\n",
       "      <td>True</td>\n",
       "      <td>/*\\n¶þÎ¬Êý×éÖÐ²éÕÒ https://www.nowcoder.com/pr...</td>\n",
       "    </tr>\n",
       "    <tr>\n",
       "      <td>10747</td>\n",
       "      <td>others</td>\n",
       "      <td>0</td>\n",
       "      <td>源.cpp</td>\n",
       "      <td>False</td>\n",
       "      <td>#include &lt;iostream&gt;\\n#include &lt;math.h&gt;\\n#inclu...</td>\n",
       "    </tr>\n",
       "    <tr>\n",
       "      <td>10748</td>\n",
       "      <td>others</td>\n",
       "      <td>0</td>\n",
       "      <td>贪吃蛇.cpp</td>\n",
       "      <td>False</td>\n",
       "      <td>#include &lt;stdio.h&gt;\\n#include &lt;stdlib.h&gt;\\n#incl...</td>\n",
       "    </tr>\n",
       "  </tbody>\n",
       "</table>\n",
       "<p>10749 rows × 5 columns</p>\n",
       "</div>"
      ],
      "text/plain": [
       "          data_source  label  \\\n",
       "0      crypto-library      1   \n",
       "1      crypto-library      1   \n",
       "2      crypto-library      1   \n",
       "3      crypto-library      1   \n",
       "4      crypto-library      1   \n",
       "...               ...    ...   \n",
       "10744          others      0   \n",
       "10745          others      0   \n",
       "10746          others      0   \n",
       "10747          others      0   \n",
       "10748          others      0   \n",
       "\n",
       "                                               file_name  is_header  \\\n",
       "0      /Users/red/Documents/CP/crypto_code_detection/...      False   \n",
       "1      /Users/red/Documents/CP/crypto_code_detection/...      False   \n",
       "2      /Users/red/Documents/CP/crypto_code_detection/...      False   \n",
       "3      /Users/red/Documents/CP/crypto_code_detection/...       True   \n",
       "4      /Users/red/Documents/CP/crypto_code_detection/...       True   \n",
       "...                                                  ...        ...   \n",
       "10744                                           __math.h       True   \n",
       "10745                                   __ocl_iterator.h       True   \n",
       "10746                                   暴力搜索_二维数组中查找.hpp       True   \n",
       "10747                                              源.cpp      False   \n",
       "10748                                            贪吃蛇.cpp      False   \n",
       "\n",
       "                                                 content  \n",
       "0      /* eddsa-hash.c\\n\\n   Copyright (C) 2014 Niels...  \n",
       "1      /* twofishdata.c\\n\\n   Generates the permutati...  \n",
       "2      /* umac32.c\\n\\n   Copyright (C) 2013 Niels Möl...  \n",
       "3      /* cfb.h\\n\\n   Cipher feedback mode.\\n\\n   Cop...  \n",
       "4      /* eddsa.h\\n\\n   Copyright (C) 2014 Niels Möll...  \n",
       "...                                                  ...  \n",
       "10744  /* Inline math functions for i387.\\n   Copyrig...  \n",
       "10745  //\\n// Copyright (c) 2015-2016 The Khronos Gro...  \n",
       "10746  /*\\n¶þÎ¬Êý×éÖÐ²éÕÒ https://www.nowcoder.com/pr...  \n",
       "10747  #include <iostream>\\n#include <math.h>\\n#inclu...  \n",
       "10748  #include <stdio.h>\\n#include <stdlib.h>\\n#incl...  \n",
       "\n",
       "[10749 rows x 5 columns]"
      ]
     },
     "execution_count": 4,
     "metadata": {},
     "output_type": "execute_result"
    }
   ],
   "source": [
    "test"
   ]
  },
  {
   "cell_type": "code",
   "execution_count": 7,
   "metadata": {},
   "outputs": [],
   "source": [
    "!cd crypto_examples/"
   ]
  },
  {
   "cell_type": "code",
   "execution_count": 10,
   "metadata": {},
   "outputs": [
    {
     "name": "stdout",
     "output_type": "stream",
     "text": [
      "aes128n12silcv1_encrypt.cpp  open_ssl_crypto_example.txt\r\n",
      "AST_parser.ipynb\t     simple_model.py\r\n",
      "crypto_examples\t\t     tfidf.py\r\n",
      "FN_model_1.csv\t\t     xgboost_simple_features_classifer.ipynb\r\n"
     ]
    }
   ],
   "source": [
    "!ls "
   ]
  },
  {
   "cell_type": "code",
   "execution_count": 13,
   "metadata": {},
   "outputs": [
    {
     "ename": "ParseError",
     "evalue": "aes128n12silcv1_encrypt_withoutheader.cpp:1:1: before: /",
     "output_type": "error",
     "traceback": [
      "\u001b[0;31m---------------------------------------------------------------------------\u001b[0m",
      "\u001b[0;31mParseError\u001b[0m                                Traceback (most recent call last)",
      "\u001b[0;32m<ipython-input-13-30120c4d9e9e>\u001b[0m in \u001b[0;36m<module>\u001b[0;34m\u001b[0m\n\u001b[0;32m----> 1\u001b[0;31m \u001b[0mast\u001b[0m \u001b[0;34m=\u001b[0m \u001b[0mparse_file\u001b[0m\u001b[0;34m(\u001b[0m\u001b[0;34m\"aes128n12silcv1_encrypt_withoutheader.cpp\"\u001b[0m\u001b[0;34m,\u001b[0m \u001b[0muse_cpp\u001b[0m\u001b[0;34m=\u001b[0m\u001b[0;32mFalse\u001b[0m\u001b[0;34m)\u001b[0m\u001b[0;34m\u001b[0m\u001b[0;34m\u001b[0m\u001b[0m\n\u001b[0m\u001b[1;32m      2\u001b[0m \u001b[0mast\u001b[0m\u001b[0;34m.\u001b[0m\u001b[0mshow\u001b[0m\u001b[0;34m(\u001b[0m\u001b[0mshowcoord\u001b[0m\u001b[0;34m=\u001b[0m\u001b[0;32mTrue\u001b[0m\u001b[0;34m)\u001b[0m\u001b[0;34m\u001b[0m\u001b[0;34m\u001b[0m\u001b[0m\n",
      "\u001b[0;32m~/anaconda3/lib/python3.7/site-packages/pycparser/__init__.py\u001b[0m in \u001b[0;36mparse_file\u001b[0;34m(filename, use_cpp, cpp_path, cpp_args, parser)\u001b[0m\n\u001b[1;32m     88\u001b[0m     \u001b[0;32mif\u001b[0m \u001b[0mparser\u001b[0m \u001b[0;32mis\u001b[0m \u001b[0;32mNone\u001b[0m\u001b[0;34m:\u001b[0m\u001b[0;34m\u001b[0m\u001b[0;34m\u001b[0m\u001b[0m\n\u001b[1;32m     89\u001b[0m         \u001b[0mparser\u001b[0m \u001b[0;34m=\u001b[0m \u001b[0mCParser\u001b[0m\u001b[0;34m(\u001b[0m\u001b[0;34m)\u001b[0m\u001b[0;34m\u001b[0m\u001b[0;34m\u001b[0m\u001b[0m\n\u001b[0;32m---> 90\u001b[0;31m     \u001b[0;32mreturn\u001b[0m \u001b[0mparser\u001b[0m\u001b[0;34m.\u001b[0m\u001b[0mparse\u001b[0m\u001b[0;34m(\u001b[0m\u001b[0mtext\u001b[0m\u001b[0;34m,\u001b[0m \u001b[0mfilename\u001b[0m\u001b[0;34m)\u001b[0m\u001b[0;34m\u001b[0m\u001b[0;34m\u001b[0m\u001b[0m\n\u001b[0m",
      "\u001b[0;32m~/anaconda3/lib/python3.7/site-packages/pycparser/c_parser.py\u001b[0m in \u001b[0;36mparse\u001b[0;34m(self, text, filename, debuglevel)\u001b[0m\n\u001b[1;32m    150\u001b[0m                 \u001b[0minput\u001b[0m\u001b[0;34m=\u001b[0m\u001b[0mtext\u001b[0m\u001b[0;34m,\u001b[0m\u001b[0;34m\u001b[0m\u001b[0;34m\u001b[0m\u001b[0m\n\u001b[1;32m    151\u001b[0m                 \u001b[0mlexer\u001b[0m\u001b[0;34m=\u001b[0m\u001b[0mself\u001b[0m\u001b[0;34m.\u001b[0m\u001b[0mclex\u001b[0m\u001b[0;34m,\u001b[0m\u001b[0;34m\u001b[0m\u001b[0;34m\u001b[0m\u001b[0m\n\u001b[0;32m--> 152\u001b[0;31m                 debug=debuglevel)\n\u001b[0m\u001b[1;32m    153\u001b[0m \u001b[0;34m\u001b[0m\u001b[0m\n\u001b[1;32m    154\u001b[0m     \u001b[0;31m######################--   PRIVATE   --######################\u001b[0m\u001b[0;34m\u001b[0m\u001b[0;34m\u001b[0m\u001b[0;34m\u001b[0m\u001b[0m\n",
      "\u001b[0;32m~/anaconda3/lib/python3.7/site-packages/pycparser/ply/yacc.py\u001b[0m in \u001b[0;36mparse\u001b[0;34m(self, input, lexer, debug, tracking, tokenfunc)\u001b[0m\n\u001b[1;32m    329\u001b[0m             \u001b[0;32mreturn\u001b[0m \u001b[0mself\u001b[0m\u001b[0;34m.\u001b[0m\u001b[0mparseopt\u001b[0m\u001b[0;34m(\u001b[0m\u001b[0minput\u001b[0m\u001b[0;34m,\u001b[0m \u001b[0mlexer\u001b[0m\u001b[0;34m,\u001b[0m \u001b[0mdebug\u001b[0m\u001b[0;34m,\u001b[0m \u001b[0mtracking\u001b[0m\u001b[0;34m,\u001b[0m \u001b[0mtokenfunc\u001b[0m\u001b[0;34m)\u001b[0m\u001b[0;34m\u001b[0m\u001b[0;34m\u001b[0m\u001b[0m\n\u001b[1;32m    330\u001b[0m         \u001b[0;32melse\u001b[0m\u001b[0;34m:\u001b[0m\u001b[0;34m\u001b[0m\u001b[0;34m\u001b[0m\u001b[0m\n\u001b[0;32m--> 331\u001b[0;31m             \u001b[0;32mreturn\u001b[0m \u001b[0mself\u001b[0m\u001b[0;34m.\u001b[0m\u001b[0mparseopt_notrack\u001b[0m\u001b[0;34m(\u001b[0m\u001b[0minput\u001b[0m\u001b[0;34m,\u001b[0m \u001b[0mlexer\u001b[0m\u001b[0;34m,\u001b[0m \u001b[0mdebug\u001b[0m\u001b[0;34m,\u001b[0m \u001b[0mtracking\u001b[0m\u001b[0;34m,\u001b[0m \u001b[0mtokenfunc\u001b[0m\u001b[0;34m)\u001b[0m\u001b[0;34m\u001b[0m\u001b[0;34m\u001b[0m\u001b[0m\n\u001b[0m\u001b[1;32m    332\u001b[0m \u001b[0;34m\u001b[0m\u001b[0m\n\u001b[1;32m    333\u001b[0m \u001b[0;34m\u001b[0m\u001b[0m\n",
      "\u001b[0;32m~/anaconda3/lib/python3.7/site-packages/pycparser/ply/yacc.py\u001b[0m in \u001b[0;36mparseopt_notrack\u001b[0;34m(self, input, lexer, debug, tracking, tokenfunc)\u001b[0m\n\u001b[1;32m   1197\u001b[0m                             \u001b[0merrtoken\u001b[0m\u001b[0;34m.\u001b[0m\u001b[0mlexer\u001b[0m \u001b[0;34m=\u001b[0m \u001b[0mlexer\u001b[0m\u001b[0;34m\u001b[0m\u001b[0;34m\u001b[0m\u001b[0m\n\u001b[1;32m   1198\u001b[0m                         \u001b[0mself\u001b[0m\u001b[0;34m.\u001b[0m\u001b[0mstate\u001b[0m \u001b[0;34m=\u001b[0m \u001b[0mstate\u001b[0m\u001b[0;34m\u001b[0m\u001b[0;34m\u001b[0m\u001b[0m\n\u001b[0;32m-> 1199\u001b[0;31m                         \u001b[0mtok\u001b[0m \u001b[0;34m=\u001b[0m \u001b[0mcall_errorfunc\u001b[0m\u001b[0;34m(\u001b[0m\u001b[0mself\u001b[0m\u001b[0;34m.\u001b[0m\u001b[0merrorfunc\u001b[0m\u001b[0;34m,\u001b[0m \u001b[0merrtoken\u001b[0m\u001b[0;34m,\u001b[0m \u001b[0mself\u001b[0m\u001b[0;34m)\u001b[0m\u001b[0;34m\u001b[0m\u001b[0;34m\u001b[0m\u001b[0m\n\u001b[0m\u001b[1;32m   1200\u001b[0m                         \u001b[0;32mif\u001b[0m \u001b[0mself\u001b[0m\u001b[0;34m.\u001b[0m\u001b[0merrorok\u001b[0m\u001b[0;34m:\u001b[0m\u001b[0;34m\u001b[0m\u001b[0;34m\u001b[0m\u001b[0m\n\u001b[1;32m   1201\u001b[0m                             \u001b[0;31m# User must have done some kind of panic\u001b[0m\u001b[0;34m\u001b[0m\u001b[0;34m\u001b[0m\u001b[0;34m\u001b[0m\u001b[0m\n",
      "\u001b[0;32m~/anaconda3/lib/python3.7/site-packages/pycparser/ply/yacc.py\u001b[0m in \u001b[0;36mcall_errorfunc\u001b[0;34m(errorfunc, token, parser)\u001b[0m\n\u001b[1;32m    191\u001b[0m     \u001b[0m_token\u001b[0m \u001b[0;34m=\u001b[0m \u001b[0mparser\u001b[0m\u001b[0;34m.\u001b[0m\u001b[0mtoken\u001b[0m\u001b[0;34m\u001b[0m\u001b[0;34m\u001b[0m\u001b[0m\n\u001b[1;32m    192\u001b[0m     \u001b[0m_restart\u001b[0m \u001b[0;34m=\u001b[0m \u001b[0mparser\u001b[0m\u001b[0;34m.\u001b[0m\u001b[0mrestart\u001b[0m\u001b[0;34m\u001b[0m\u001b[0;34m\u001b[0m\u001b[0m\n\u001b[0;32m--> 193\u001b[0;31m     \u001b[0mr\u001b[0m \u001b[0;34m=\u001b[0m \u001b[0merrorfunc\u001b[0m\u001b[0;34m(\u001b[0m\u001b[0mtoken\u001b[0m\u001b[0;34m)\u001b[0m\u001b[0;34m\u001b[0m\u001b[0;34m\u001b[0m\u001b[0m\n\u001b[0m\u001b[1;32m    194\u001b[0m     \u001b[0;32mtry\u001b[0m\u001b[0;34m:\u001b[0m\u001b[0;34m\u001b[0m\u001b[0;34m\u001b[0m\u001b[0m\n\u001b[1;32m    195\u001b[0m         \u001b[0;32mdel\u001b[0m \u001b[0m_errok\u001b[0m\u001b[0;34m,\u001b[0m \u001b[0m_token\u001b[0m\u001b[0;34m,\u001b[0m \u001b[0m_restart\u001b[0m\u001b[0;34m\u001b[0m\u001b[0;34m\u001b[0m\u001b[0m\n",
      "\u001b[0;32m~/anaconda3/lib/python3.7/site-packages/pycparser/c_parser.py\u001b[0m in \u001b[0;36mp_error\u001b[0;34m(self, p)\u001b[0m\n\u001b[1;32m   1846\u001b[0m                 \u001b[0;34m'before: %s'\u001b[0m \u001b[0;34m%\u001b[0m \u001b[0mp\u001b[0m\u001b[0;34m.\u001b[0m\u001b[0mvalue\u001b[0m\u001b[0;34m,\u001b[0m\u001b[0;34m\u001b[0m\u001b[0;34m\u001b[0m\u001b[0m\n\u001b[1;32m   1847\u001b[0m                 self._coord(lineno=p.lineno,\n\u001b[0;32m-> 1848\u001b[0;31m                             column=self.clex.find_tok_column(p)))\n\u001b[0m\u001b[1;32m   1849\u001b[0m         \u001b[0;32melse\u001b[0m\u001b[0;34m:\u001b[0m\u001b[0;34m\u001b[0m\u001b[0;34m\u001b[0m\u001b[0m\n\u001b[1;32m   1850\u001b[0m             \u001b[0mself\u001b[0m\u001b[0;34m.\u001b[0m\u001b[0m_parse_error\u001b[0m\u001b[0;34m(\u001b[0m\u001b[0;34m'At end of input'\u001b[0m\u001b[0;34m,\u001b[0m \u001b[0mself\u001b[0m\u001b[0;34m.\u001b[0m\u001b[0mclex\u001b[0m\u001b[0;34m.\u001b[0m\u001b[0mfilename\u001b[0m\u001b[0;34m)\u001b[0m\u001b[0;34m\u001b[0m\u001b[0;34m\u001b[0m\u001b[0m\n",
      "\u001b[0;32m~/anaconda3/lib/python3.7/site-packages/pycparser/plyparser.py\u001b[0m in \u001b[0;36m_parse_error\u001b[0;34m(self, msg, coord)\u001b[0m\n\u001b[1;32m     65\u001b[0m \u001b[0;34m\u001b[0m\u001b[0m\n\u001b[1;32m     66\u001b[0m     \u001b[0;32mdef\u001b[0m \u001b[0m_parse_error\u001b[0m\u001b[0;34m(\u001b[0m\u001b[0mself\u001b[0m\u001b[0;34m,\u001b[0m \u001b[0mmsg\u001b[0m\u001b[0;34m,\u001b[0m \u001b[0mcoord\u001b[0m\u001b[0;34m)\u001b[0m\u001b[0;34m:\u001b[0m\u001b[0;34m\u001b[0m\u001b[0;34m\u001b[0m\u001b[0m\n\u001b[0;32m---> 67\u001b[0;31m         \u001b[0;32mraise\u001b[0m \u001b[0mParseError\u001b[0m\u001b[0;34m(\u001b[0m\u001b[0;34m\"%s: %s\"\u001b[0m \u001b[0;34m%\u001b[0m \u001b[0;34m(\u001b[0m\u001b[0mcoord\u001b[0m\u001b[0;34m,\u001b[0m \u001b[0mmsg\u001b[0m\u001b[0;34m)\u001b[0m\u001b[0;34m)\u001b[0m\u001b[0;34m\u001b[0m\u001b[0;34m\u001b[0m\u001b[0m\n\u001b[0m\u001b[1;32m     68\u001b[0m \u001b[0;34m\u001b[0m\u001b[0m\n\u001b[1;32m     69\u001b[0m \u001b[0;34m\u001b[0m\u001b[0m\n",
      "\u001b[0;31mParseError\u001b[0m: aes128n12silcv1_encrypt_withoutheader.cpp:1:1: before: /"
     ]
    }
   ],
   "source": [
    "ast = parse_file(\"aes128n12silcv1_encrypt_withoutheader.cpp\", use_cpp=False)\n",
    "ast.show(showcoord=True)"
   ]
  }
 ],
 "metadata": {
  "kernelspec": {
   "display_name": "Python 3",
   "language": "python",
   "name": "python3"
  },
  "language_info": {
   "codemirror_mode": {
    "name": "ipython",
    "version": 3
   },
   "file_extension": ".py",
   "mimetype": "text/x-python",
   "name": "python",
   "nbconvert_exporter": "python",
   "pygments_lexer": "ipython3",
   "version": "3.7.4"
  }
 },
 "nbformat": 4,
 "nbformat_minor": 2
}
